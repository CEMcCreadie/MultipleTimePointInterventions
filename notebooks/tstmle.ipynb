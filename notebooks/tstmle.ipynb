{
 "cells": [
  {
   "cell_type": "code",
   "execution_count": 13,
   "metadata": {
    "vscode": {
     "languageId": "r"
    }
   },
   "outputs": [],
   "source": [
    "library(sl3)\n",
    "library(tmle3)\n",
    "library(origami)\n",
    "library(dplyr)"
   ]
  },
  {
   "attachments": {},
   "cell_type": "markdown",
   "metadata": {},
   "source": [
    "<h1>Definition of TMLE Helper Functions for Time Series </h1>\n",
    "The probability density function of any given observation can be factorised into:\n",
    "\n",
    "$$ p^N(o) = \\prod_{t=1}^Np_{a(t)}(a(t)| \\bar o(t-1))\\prod_{t=1}^Np_{y(t)}(y(t)|\\bar o(t-1), a(t))\\prod_{t=1}^Np_{w(t)}(w(t)|\\bar o(t-1), y(t), a(t)) \\\\\n",
    "p^N(o) = g_{a(t)} \\cdot q_{y(t)} \\cdot q_{w(t)} $$ \n",
    "\n",
    "We assume $P_{O(t)|\\bar O(t-1)}$ depends on $\\bar O(t-1)$ throught the summary measure $C_o(t)$. We use the <em>conditional stationarity assumption</em>, i.e. the probability of an observation only depends on the summary measure and not $t$. \n",
    "\n",
    "$$\n",
    "(c,o) \\rightarrow p_{C_o(t)}(o | c) = \\bar p(o | c) \\text{ constant in } t\n",
    "$$\n",
    "\n",
    "We use the superlearning algorithm to find the initial fits $\\theta_N = (\\bar g, \\bar q_y)$. As noted we can describe the density function conditioned on the summary measure.\n",
    "$$\n",
    "    p_{C_o(t)}(a,y,w)= \\bar g(a | C_a(t)) \\bar q_y(y| C_y(t))q_{w(t)}(w | C_w(t))\n",
    "$$\n",
    "\n",
    "Therefore for $q_{y(t)}$ the regression task is simply $(y(t)|C_y(t))$. Simple manipulation of the raw data can be put in such a way that we can the traditional superlearner pipeline by specifying $C_o(t) \\in \\bold W$. Example for $C_o(t)$ of dimension two is given below.\n",
    "\n",
    "We manipulate the standard data table \n",
    "| W | A | Y |\n",
    "|---|---|---|\n",
    "| 1 | 0 | 1 |\n",
    "| 0 | 1 | 1 |\n",
    "| 1 | 1 | 0 |\n",
    "\n",
    "to \n",
    "\n",
    "| W | A | Y | A_lag_1 | A_lag_2 | Y_lag_1 | Y_lag_2\n",
    "|---|---|---| ---|---|---| --- |\n",
    "| 1 | 0 | 1 | 0 | 0 | 0 | 0 |\n",
    "| 0 | 1 | 1 | 0 | 0 | 1 | 0 |\n",
    "| 1 | 1 | 0 | 1 | 0 | 1 | 1 |\n",
    "\n",
    "Where for the start at the time series we input 0 as a placeholder if the lag goes results in a negative value for $t$. \n",
    "\n",
    "I see no reason as to why we can't stack every subject in the dataset as opposed to one single observed time series."
   ]
  },
  {
   "cell_type": "code",
   "execution_count": 14,
   "metadata": {
    "vscode": {
     "languageId": "r"
    }
   },
   "outputs": [],
   "source": [
    "lag_column = function(column, lag){\n",
    "    lag_col <- lapply(seq_len(lag), function(x) {\n",
    "        Hmisc::Lag(column[, 1], x)\n",
    "    })\n",
    "    lag_cols <- data.frame(matrix(unlist(lag_col), nrow = length(lag_col[[1]])),\n",
    "        stringsAsFactors = FALSE)\n",
    "    return(lag_cols)\n",
    "}\n",
    "\n",
    "\n",
    "generate_lag_table = function(W, A, Y, lag){\n",
    "    lag_As = lag_column(A, lag) \n",
    "    names(lag_As) <- paste0(\"A_lag_\", seq(lag))\n",
    "\n",
    "    lag_Ys = lag_column(Y, lag) \n",
    "    names(lag_Ys) <- paste0(\"Y_lag_\", seq(lag))\n",
    "\n",
    "    combined_lag_columns <- cbind.data.frame(lag_As, lag_Ys)\n",
    "    combined_lag_columns[is.na(combined_lag_columns)] <- 0\n",
    "\n",
    "    return(cbind.data.frame(W, A, Y, combined_lag_columns))\n",
    "}\n",
    "\n",
    "\n",
    "make_tmle_task = function(data, node_list, folds, lag=5){\n",
    "    data_lag <- generate_lag_table(W = data.frame(W=data[, node_list$W]),\n",
    "        A = data.frame(A=data[, node_list$A]),\n",
    "        Y = data.frame(Y=data[, node_list$Y]),\n",
    "        lag\n",
    "    )\n",
    "\n",
    "    # I think this fixes a bug in the original tstmle3, where data_lag has column Y, \n",
    "    # but node_list_lag refers to it as \"cnt\" in this example\n",
    "    node_list_lag <- list(\n",
    "        W = colnames(data_lag)[-(which(names(data_lag)==\"A\" | names(data_lag)==\"Y\"))],\n",
    "        A = \"A\",\n",
    "        Y = \"Y\"\n",
    "    )\n",
    "\n",
    "    ate_spec <- tmle_ATE(treatment_level = 1, control_level=0)\n",
    "\n",
    "    return(ate_spec$make_tmle_task(data_lag, node_list_lag, folds=folds))\n",
    "}"
   ]
  },
  {
   "attachments": {},
   "cell_type": "markdown",
   "metadata": {},
   "source": [
    "<h3>Define Learners</h3>"
   ]
  },
  {
   "attachments": {},
   "cell_type": "markdown",
   "metadata": {},
   "source": [
    "Paper 5.2 <em>\"We advocate for online Super-learner based estimators based on the log-likelihood loss and appropriate CV for time-series (Rolling)\"</em>.\n",
    "\n",
    "<em>Personal Note: We're estimating the probability function of $y(t), g(t)$ so loglikelihood loss seems sensible</em>"
   ]
  },
  {
   "cell_type": "code",
   "execution_count": 15,
   "metadata": {
    "vscode": {
     "languageId": "r"
    }
   },
   "outputs": [],
   "source": [
    "# choose base learners\n",
    "#lrnr_mean <- make_learner(Lrnr_mean)\n",
    "lrnr_rf <- make_learner(Lrnr_ranger)\n",
    "lrnr_mean <- make_learner(Lrnr_glm)\n",
    "#lrnr_hal <- make_learner(Lrnr_hal9001)\n",
    "\n",
    "# define metalearners appropriate to data types\n",
    "ls_metalearner <- make_learner(Lrnr_nnls)\n",
    "treatment_metalearner <- make_learner(\n",
    "  Lrnr_solnp, \n",
    "  loss_function = loss_loglik_binomial,\n",
    "  learner_function = metalearner_logistic_binomial\n",
    ")\n",
    "\n",
    "outcome_metalearner <- make_learner(\n",
    "  Lrnr_solnp, \n",
    "  loss_function = loss_loglik_true_cat, # Different Loss function as Y is continous outcome not bounded to (0,1)?\n",
    "  learner_function = metalearner_logistic_binomial\n",
    ")\n",
    "\n",
    "sl_A <- Lrnr_sl$new(\n",
    "  learners = list(lrnr_mean, lrnr_rf),\n",
    "  metalearner = treatment_metalearner \n",
    ")\n",
    "\n",
    "sl_Y <- Lrnr_sl$new(\n",
    "  learners = list(lrnr_mean, lrnr_rf),\n",
    "  metalearner = outcome_metalearner \n",
    ")\n",
    "\n",
    "learner_list <- list(A = sl_A, Y = sl_Y)"
   ]
  },
  {
   "attachments": {},
   "cell_type": "markdown",
   "metadata": {},
   "source": [
    "<h2>Run TMLE</h2>"
   ]
  },
  {
   "cell_type": "code",
   "execution_count": 16,
   "metadata": {
    "vscode": {
     "languageId": "r"
    }
   },
   "outputs": [
    {
     "data": {
      "text/html": [
       "<table class=\"dataframe\">\n",
       "<caption>A data.frame: 6 x 3</caption>\n",
       "<thead>\n",
       "\t<tr><th></th><th scope=col>breathing_rate</th><th scope=col>activity_type</th><th scope=col>pm2_5</th></tr>\n",
       "\t<tr><th></th><th scope=col>&lt;dbl&gt;</th><th scope=col>&lt;int&gt;</th><th scope=col>&lt;dbl&gt;</th></tr>\n",
       "</thead>\n",
       "<tbody>\n",
       "\t<tr><th scope=row>1</th><td>19.68266</td><td>0</td><td>3.095517</td></tr>\n",
       "\t<tr><th scope=row>2</th><td>25.18890</td><td>0</td><td>3.304939</td></tr>\n",
       "\t<tr><th scope=row>3</th><td>24.04258</td><td>0</td><td>2.941362</td></tr>\n",
       "\t<tr><th scope=row>4</th><td>19.68266</td><td>0</td><td>2.716043</td></tr>\n",
       "\t<tr><th scope=row>5</th><td>19.68266</td><td>1</td><td>3.184329</td></tr>\n",
       "\t<tr><th scope=row>6</th><td>19.68266</td><td>1</td><td>3.957716</td></tr>\n",
       "</tbody>\n",
       "</table>\n"
      ],
      "text/latex": [
       "A data.frame: 6 x 3\n",
       "\\begin{tabular}{r|lll}\n",
       "  & breathing\\_rate & activity\\_type & pm2\\_5\\\\\n",
       "  & <dbl> & <int> & <dbl>\\\\\n",
       "\\hline\n",
       "\t1 & 19.68266 & 0 & 3.095517\\\\\n",
       "\t2 & 25.18890 & 0 & 3.304939\\\\\n",
       "\t3 & 24.04258 & 0 & 2.941362\\\\\n",
       "\t4 & 19.68266 & 0 & 2.716043\\\\\n",
       "\t5 & 19.68266 & 1 & 3.184329\\\\\n",
       "\t6 & 19.68266 & 1 & 3.957716\\\\\n",
       "\\end{tabular}\n"
      ],
      "text/markdown": [
       "\n",
       "A data.frame: 6 x 3\n",
       "\n",
       "| <!--/--> | breathing_rate &lt;dbl&gt; | activity_type &lt;int&gt; | pm2_5 &lt;dbl&gt; |\n",
       "|---|---|---|---|\n",
       "| 1 | 19.68266 | 0 | 3.095517 |\n",
       "| 2 | 25.18890 | 0 | 3.304939 |\n",
       "| 3 | 24.04258 | 0 | 2.941362 |\n",
       "| 4 | 19.68266 | 0 | 2.716043 |\n",
       "| 5 | 19.68266 | 1 | 3.184329 |\n",
       "| 6 | 19.68266 | 1 | 3.957716 |\n",
       "\n"
      ],
      "text/plain": [
       "  breathing_rate activity_type pm2_5   \n",
       "1 19.68266       0             3.095517\n",
       "2 25.18890       0             3.304939\n",
       "3 24.04258       0             2.941362\n",
       "4 19.68266       0             2.716043\n",
       "5 19.68266       1             3.184329\n",
       "6 19.68266       1             3.957716"
      ]
     },
     "metadata": {},
     "output_type": "display_data"
    }
   ],
   "source": [
    "# Sample Data Set\n",
    "# data(bsds)\n",
    "# data <- bsds\n",
    "# node_list <- list(\n",
    "#     W = \"weathersit\",\n",
    "#     A = \"workingday\",\n",
    "#     Y = \"cnt\"\n",
    "# )\n",
    "\n",
    "# Custom Data\n",
    "data <- read.csv(\"data/experiments/experiment_one_DBCC14.csv\")\n",
    "#data$pm2_5 <- ifelse(data$pm2_5 >= 50, 1, 0)\n",
    "node_list <- list(\n",
    "    W = c(\"activity_type\"),\n",
    "    A = \"pm2_5\",\n",
    "    Y = \"breathing_rate\"\n",
    ")\n",
    "\n",
    "head(data)"
   ]
  },
  {
   "cell_type": "code",
   "execution_count": 17,
   "metadata": {
    "vscode": {
     "languageId": "r"
    }
   },
   "outputs": [],
   "source": [
    "make_tmle_task = function(data, node_list, folds, lag=5){\n",
    "    data_lag <- generate_lag_table(W = data.frame(W=data[, node_list$W]),\n",
    "        A = data.frame(A=data[, node_list$A]),\n",
    "        Y = data.frame(Y=data[, node_list$Y]),\n",
    "        lag\n",
    "    )\n",
    "\n",
    "    data_lag$A <- ifelse(data_lag$A >= 50, 1, 0)\n",
    "\n",
    "    A_cols <- colnames(data_lag)[grepl(\"A\", colnames(data_lag))]\n",
    "    # I think this fixes a bug in the original tstmle3, where data_lag has column Y, \n",
    "    # but node_list_lag refers to it as \"cnt\" in this example\n",
    "    node_list_lag <- list(\n",
    "        W = colnames(data_lag)[-(which(names(data_lag)==\"A\" | names(data_lag)==\"Y\"))],\n",
    "        A = \"A\",\n",
    "        Y = \"Y\"\n",
    "    )\n",
    "\n",
    "    ate_spec <- tmle_ATE(treatment_level = 1, control_level=0)\n",
    "    return(ate_spec$make_tmle_task(data_lag, node_list_lag, folds=folds))\n",
    "}\n",
    "\n",
    "folds <- origami::make_folds(fold_fun = folds_rolling_origin, n=nrow(data), first_window = 100, validation_size = 30, gap = 0, batch = 30)\n",
    "tmle_task <- make_tmle_task(data, node_list, folds, lag = 5)"
   ]
  },
  {
   "cell_type": "code",
   "execution_count": 19,
   "metadata": {
    "vscode": {
     "languageId": "r"
    }
   },
   "outputs": [],
   "source": [
    "att_spec <- tmle_ATT(treatment_level = 1, control_level=0)"
   ]
  },
  {
   "cell_type": "code",
   "execution_count": 20,
   "metadata": {
    "vscode": {
     "languageId": "r"
    }
   },
   "outputs": [
    {
     "name": "stdout",
     "output_type": "stream",
     "text": [
      "W: Lf_emp\n",
      "A: LF_fit\n",
      "Y: LF_fit\n"
     ]
    }
   ],
   "source": [
    "ate_spec <- tmle_ATE(treatment_level = 1, control_level=0)\n",
    "\n",
    "initial_likelihood <- ate_spec$make_initial_likelihood(\n",
    "    tmle_task,\n",
    "    learner_list\n",
    ")\n",
    "\n",
    "print(initial_likelihood)"
   ]
  },
  {
   "cell_type": "code",
   "execution_count": 24,
   "metadata": {
    "vscode": {
     "languageId": "r"
    }
   },
   "outputs": [
    {
     "data": {
      "text/plain": [
       "Y: LF_fit"
      ]
     },
     "metadata": {},
     "output_type": "display_data"
    }
   ],
   "source": [
    "initial_likelihood$factor_list[[\"Y\"]]"
   ]
  },
  {
   "cell_type": "code",
   "execution_count": 21,
   "metadata": {
    "vscode": {
     "languageId": "r"
    }
   },
   "outputs": [
    {
     "data": {
      "text/plain": [
       "[[1]]\n",
       "Param_ATE: ATE[Y_{A=1}-Y_{A=0}]\n"
      ]
     },
     "metadata": {},
     "output_type": "display_data"
    }
   ],
   "source": [
    "updater <- ate_spec$make_updater(cvtmle=TRUE)\n",
    "targeted_likelihood <- ate_spec$make_targeted_likelihood(initial_likelihood, updater)\n",
    "tmle_params <- ate_spec$make_params(tmle_task, targeted_likelihood)\n",
    "\n",
    "tmle_params"
   ]
  },
  {
   "cell_type": "code",
   "execution_count": 22,
   "metadata": {
    "vscode": {
     "languageId": "r"
    }
   },
   "outputs": [
    {
     "data": {
      "text/html": [
       "-0.0390537289255648"
      ],
      "text/latex": [
       "-0.0390537289255648"
      ],
      "text/markdown": [
       "-0.0390537289255648"
      ],
      "text/plain": [
       "[1] -0.03905373"
      ]
     },
     "metadata": {},
     "output_type": "display_data"
    }
   ],
   "source": [
    "tmle_fit <- fit_tmle3(tmle_task, targeted_likelihood, tmle_params, updater)\n",
    "#One-Step\n",
    "EIC <- tmle_fit$estimates[[1]]$IC\n",
    "oneStepEst <- (tmle_fit$initial_psi + mean(EIC))\n",
    "\n",
    "oneStepEst"
   ]
  },
  {
   "cell_type": "code",
   "execution_count": 39,
   "metadata": {
    "vscode": {
     "languageId": "r"
    }
   },
   "outputs": [
    {
     "data": {
      "text/html": [
       "<style>\n",
       ".list-inline {list-style: none; margin:0; padding: 0}\n",
       ".list-inline>li {display: inline-block}\n",
       ".list-inline>li:not(:last-child)::after {content: \"\\00b7\"; padding: 0 .5ex}\n",
       "</style>\n",
       "<ol class=list-inline><li>'tmle3_Fit'</li><li>'R6'</li></ol>\n"
      ],
      "text/latex": [
       "\\begin{enumerate*}\n",
       "\\item 'tmle3\\_Fit'\n",
       "\\item 'R6'\n",
       "\\end{enumerate*}\n"
      ],
      "text/markdown": [
       "1. 'tmle3_Fit'\n",
       "2. 'R6'\n",
       "\n",
       "\n"
      ],
      "text/plain": [
       "[1] \"tmle3_Fit\" \"R6\"       "
      ]
     },
     "metadata": {},
     "output_type": "display_data"
    }
   ],
   "source": [
    "class(tmle_fit)"
   ]
  },
  {
   "attachments": {},
   "cell_type": "markdown",
   "metadata": {},
   "source": [
    "Currently the TMLE is estimate the causal effect of a single time-point intervention $A(t)$ on subsequent outcome $Y(t)$, conditional on history. \n",
    "$$ \\Psi_{C_o(t)}(\\bar q_y) = E(Y(t) | C_o(t), A(t) = 1) = \\int y\\bar q_y(y|C_o(t),1)d \\mu_y(y)$$\n",
    "$$ E(Y(t) | C_o(t), A(t) = 1) - E(Y(t) | C_o(t), A(t) = 0)$$"
   ]
  },
  {
   "cell_type": "code",
   "execution_count": 28,
   "metadata": {
    "vscode": {
     "languageId": "r"
    }
   },
   "outputs": [
    {
     "data": {
      "text/plain": [
       "A tmle3_Fit that took 1 step(s)\n",
       "   type                param     init_est  tmle_est        se     lower\n",
       "1:  ATE ATE[Y_{A=1}-Y_{A=0}] -0.004562555 0.2001411 0.2412055 -0.272613\n",
       "       upper psi_transformed lower_transformed upper_transformed\n",
       "1: 0.6728952       0.2001411         -0.272613         0.6728952"
      ]
     },
     "metadata": {},
     "output_type": "display_data"
    }
   ],
   "source": [
    "tmle_fit"
   ]
  },
  {
   "cell_type": "code",
   "execution_count": 29,
   "metadata": {
    "vscode": {
     "languageId": "r"
    }
   },
   "outputs": [],
   "source": [
    "source(\"tstmle.r\")\n",
    "ate_spec <- tmle_ATE(treatment_level = 1, control_level=0)\n",
    "\n",
    "run_tstmle(ate_spec, data, node_list, markov_order=30)"
   ]
  },
  {
   "cell_type": "code",
   "execution_count": null,
   "metadata": {
    "vscode": {
     "languageId": "r"
    }
   },
   "outputs": [
    {
     "data": {
      "text/html": [
       "0.4"
      ],
      "text/latex": [
       "0.4"
      ],
      "text/markdown": [
       "0.4"
      ],
      "text/plain": [
       "[1] 0.4"
      ]
     },
     "metadata": {},
     "output_type": "display_data"
    },
    {
     "data": {
      "text/html": [
       "-0.15"
      ],
      "text/latex": [
       "-0.15"
      ],
      "text/markdown": [
       "-0.15"
      ],
      "text/plain": [
       "[1] -0.15"
      ]
     },
     "metadata": {},
     "output_type": "display_data"
    }
   ],
   "source": [
    "0.65 - 0.25\n",
    "\n",
    "0.25 - 0.4"
   ]
  },
  {
   "attachments": {},
   "cell_type": "markdown",
   "metadata": {},
   "source": [
    "<h2>Prediction Counterfactual Outcome - Currently usign Super Learner Regression :( </h2>"
   ]
  },
  {
   "attachments": {},
   "cell_type": "markdown",
   "metadata": {},
   "source": [
    "From Targeted Learning in Data Science: 19.7.1 \n",
    "$$ \\psi(P) = E_pE_p(Y | A = 1, W) $$\n",
    "Loosely, the Expectation of treatment average over all covariates.\n",
    "\n",
    "Want I want is to plot a time series of observed data and the counterfactual of there being treatment. For that I would want to use \n",
    "$$ \\bar Q(W) = E_P(Y| A=1, W) $$\n",
    "where I specify the $W$ to generate the counterfactual outcome.\n",
    "\n",
    "NB:\n",
    "$$\\psi(P) = \\bar Q_w\\bar Q = \\int \\bar Q(w) d \\bar Q_w(w)$$"
   ]
  },
  {
   "attachments": {},
   "cell_type": "markdown",
   "metadata": {},
   "source": [
    "So far: I can only figure out how to do this use the superlearner :("
   ]
  },
  {
   "cell_type": "code",
   "execution_count": 2,
   "metadata": {
    "vscode": {
     "languageId": "r"
    }
   },
   "outputs": [],
   "source": [
    "get_sl3_task = function(data, node_list, folds, lag=5){\n",
    "    data_lag <- generate_lag_table(W = data.frame(W=data[, node_list$W]),\n",
    "        A = data.frame(A=data[, node_list$A]),\n",
    "        Y = data.frame(Y=data[, node_list$Y]),\n",
    "        lag\n",
    "    )\n",
    "\n",
    "    # I think this fixes a bug in the original tstmle3, where data_lag has column Y, \n",
    "    # but node_list_lag refers to it as \"cnt\" in this example\n",
    "    node_list_lag <- list(\n",
    "        W = colnames(data_lag)[-(which(names(data_lag)==\"A\" | names(data_lag)==\"Y\"))],\n",
    "        A = \"A\",\n",
    "        Y = \"Y\"\n",
    "    )\n",
    "\n",
    "\n",
    "    return(make_sl3_Task(data = data_lag, outcome =\"Y\", covariates = node_list_lag$W, folds=folds))\n",
    "}"
   ]
  },
  {
   "cell_type": "code",
   "execution_count": 9,
   "metadata": {
    "vscode": {
     "languageId": "r"
    }
   },
   "outputs": [],
   "source": [
    "folds <- origami::make_folds(fold_fun = folds_rolling_origin, n=nrow(data), first_window = 100, validation_size = 30, gap = 0, batch = 30)\n",
    "\n",
    "sl_task <- get_sl3_task(data, node_list, folds, lag = 5)\n",
    "\n",
    "#lrn_hal <- Lrnr_hal9001$new(max_degree = 2, num_knots = c(3,2))\n",
    "lrn_glm <- Lrnr_glm$new()\n",
    "lrn_mean <- Lrnr_mean$new()\n",
    "\n",
    "# Why does lrn_hal increase Run Time by 3 orders of magnitude???\n",
    "\n",
    "stack = Stack$new(lrn_mean, lrn_glm)\n",
    "sl <- Lrnr_sl$new(learners = stack, metalearner = Lrnr_nnls$new())\n",
    "\n",
    "sl_fit <- sl$train(sl_task)"
   ]
  },
  {
   "cell_type": "code",
   "execution_count": 10,
   "metadata": {
    "vscode": {
     "languageId": "r"
    }
   },
   "outputs": [
    {
     "data": {
      "text/html": [
       "<table class=\"dataframe\">\n",
       "<caption>A data.frame: 6 x 3</caption>\n",
       "<thead>\n",
       "\t<tr><th></th><th scope=col>breathing_rate</th><th scope=col>activity_type</th><th scope=col>pm2_5</th></tr>\n",
       "\t<tr><th></th><th scope=col>&lt;dbl&gt;</th><th scope=col>&lt;int&gt;</th><th scope=col>&lt;dbl&gt;</th></tr>\n",
       "</thead>\n",
       "<tbody>\n",
       "\t<tr><th scope=row>1</th><td>31.71102</td><td>0</td><td>1</td></tr>\n",
       "\t<tr><th scope=row>2</th><td>27.78943</td><td>0</td><td>1</td></tr>\n",
       "\t<tr><th scope=row>3</th><td>20.90418</td><td>0</td><td>1</td></tr>\n",
       "\t<tr><th scope=row>4</th><td>18.99838</td><td>0</td><td>1</td></tr>\n",
       "\t<tr><th scope=row>5</th><td>      NA</td><td>1</td><td>1</td></tr>\n",
       "\t<tr><th scope=row>6</th><td>      NA</td><td>1</td><td>1</td></tr>\n",
       "</tbody>\n",
       "</table>\n"
      ],
      "text/latex": [
       "A data.frame: 6 x 3\n",
       "\\begin{tabular}{r|lll}\n",
       "  & breathing\\_rate & activity\\_type & pm2\\_5\\\\\n",
       "  & <dbl> & <int> & <dbl>\\\\\n",
       "\\hline\n",
       "\t1 & 31.71102 & 0 & 1\\\\\n",
       "\t2 & 27.78943 & 0 & 1\\\\\n",
       "\t3 & 20.90418 & 0 & 1\\\\\n",
       "\t4 & 18.99838 & 0 & 1\\\\\n",
       "\t5 &       NA & 1 & 1\\\\\n",
       "\t6 &       NA & 1 & 1\\\\\n",
       "\\end{tabular}\n"
      ],
      "text/markdown": [
       "\n",
       "A data.frame: 6 x 3\n",
       "\n",
       "| <!--/--> | breathing_rate &lt;dbl&gt; | activity_type &lt;int&gt; | pm2_5 &lt;dbl&gt; |\n",
       "|---|---|---|---|\n",
       "| 1 | 31.71102 | 0 | 1 |\n",
       "| 2 | 27.78943 | 0 | 1 |\n",
       "| 3 | 20.90418 | 0 | 1 |\n",
       "| 4 | 18.99838 | 0 | 1 |\n",
       "| 5 |       NA | 1 | 1 |\n",
       "| 6 |       NA | 1 | 1 |\n",
       "\n"
      ],
      "text/plain": [
       "  breathing_rate activity_type pm2_5\n",
       "1 31.71102       0             1    \n",
       "2 27.78943       0             1    \n",
       "3 20.90418       0             1    \n",
       "4 18.99838       0             1    \n",
       "5       NA       1             1    \n",
       "6       NA       1             1    "
      ]
     },
     "metadata": {},
     "output_type": "display_data"
    }
   ],
   "source": [
    "counterfactual_data <- read.csv(\"data/experiments/experiment_one_counterfactual_DBCC17.csv\")\n",
    "counterfactual_data$pm2_5 <- ifelse(counterfactual_data$pm2_5 >= 0, 1, 0) # Counterfactual: Treatment for sustained period\n",
    "head(counterfactual_data)"
   ]
  },
  {
   "cell_type": "code",
   "execution_count": 11,
   "metadata": {
    "vscode": {
     "languageId": "r"
    }
   },
   "outputs": [
    {
     "name": "stderr",
     "output_type": "stream",
     "text": [
      "Warning message in process_data(data, nodes, column_names = column_names, flag = flag, :\n",
      "\"Missing outcome data detected. This is okay for prediction, but will likely break training. \n",
      " You can drop observations with missing outcomes by setting drop_missing_outcome=TRUE in make_sl3_Task.\"\n"
     ]
    }
   ],
   "source": [
    "counterfactual_task <- get_sl3_task(counterfactual_data, node_list, folds, lag = 5)\n",
    "counterfactual_pred <- sl_fit$predict(counterfactual_task)"
   ]
  },
  {
   "cell_type": "code",
   "execution_count": 12,
   "metadata": {
    "vscode": {
     "languageId": "r"
    }
   },
   "outputs": [
    {
     "data": {
      "text/html": [
       "<style>\n",
       ".list-inline {list-style: none; margin:0; padding: 0}\n",
       ".list-inline>li {display: inline-block}\n",
       ".list-inline>li:not(:last-child)::after {content: \"\\00b7\"; padding: 0 .5ex}\n",
       "</style>\n",
       "<ol class=list-inline><li>12.9457228834366</li><li>16.8072441702259</li><li>18.6735291019507</li><li>17.84736330625</li><li>18.2448761583311</li><li>16.9585685881689</li><li>15.0927788390296</li><li>14.6138293001095</li><li>16.6204114572305</li><li>18.5181419716252</li><li>15.448065911303</li><li>14.119221396852</li><li>15.1788716544704</li><li>14.2629163433525</li><li>12.9458285658652</li><li>16.2778034967521</li><li>18.162339610548</li><li>15.1920065296107</li><li>16.9109766717367</li><li>19.5214764712518</li><li>18.0680817611951</li><li>17.2402995299339</li><li>17.6741311254121</li><li>17.611917199834</li><li>17.9960679657092</li><li>18.8172907342914</li><li>18.7934384522823</li><li>18.6968917920698</li><li>19.276735927128</li><li>19.6286364612963</li><li>19.5694338177595</li><li>19.3076192230552</li><li>18.9013626560482</li><li>18.4054809533448</li><li>18.6920459276774</li><li>18.5998993442054</li><li>18.3280100161052</li><li>18.9169284679374</li><li>19.0547009377111</li><li>19.2311882783821</li><li>19.1214693437164</li><li>19.0186580212203</li><li>19.4515568226317</li><li>19.8766683199516</li><li>18.6770970701781</li><li>16.562484658387</li><li>15.1378691092086</li><li>14.8429405815838</li><li>13.8130680115179</li><li>12.8669752313994</li><li>12.2361485556732</li><li>12.2361485556732</li><li>12.9458285658652</li><li>12.9458285658652</li><li>12.9458285658652</li><li>12.9458285658652</li><li>12.2361485556732</li><li>12.9458285658652</li><li>15.554544279741</li><li>17.0398046872435</li><li>16.6213290158673</li><li>17.7894907613764</li><li>18.998496799813</li><li>18.8350576670804</li><li>18.670747915536</li><li>18.1778512797213</li><li>18.7361433501692</li><li>18.7119788182123</li><li>18.6986815062858</li><li>18.7332667877027</li><li>19.2233927638863</li><li>19.0537682233278</li><li>19.2854437437207</li><li>19.372996137982</li><li>19.2893244472219</li><li>18.8227540726992</li><li>18.9627750213112</li><li>19.0939205432142</li><li>18.7895099920442</li><li>19.0983415788251</li><li>19.039036473636</li><li>19.4756480999808</li><li>19.8423928919501</li><li>19.7810034498124</li><li>19.6303734744395</li><li>19.7144677941678</li><li>19.7383302069011</li><li>19.5617436841406</li><li>19.2150889219711</li><li>19.339556983857</li><li>19.1713374099912</li><li>18.9572539440082</li><li>16.458999959465</li><li>17.4664387543656</li><li>19.6544387491775</li><li>18.5046161849132</li><li>18.0530753191282</li><li>19.0767196757907</li><li>19.1648486657756</li><li>16.3837725860801</li><li>14.8379849107833</li><li>14.6283631821936</li><li>13.8764559738339</li><li>12.9458285658652</li><li>12.9458285658652</li><li>15.8173049829579</li><li>15.1178494685233</li><li>13.1465948080601</li><li>14.0308813847471</li><li>14.1555362835347</li><li>12.8669752313994</li><li>12.8669752313994</li><li>12.8669752313994</li><li>12.8669752313994</li><li>12.8669752313994</li><li>12.8669752313994</li><li>12.8669752313994</li><li>12.8669752313994</li><li>12.8669752313994</li><li>12.8669752313994</li><li>12.8669752313994</li></ol>\n"
      ],
      "text/latex": [
       "\\begin{enumerate*}\n",
       "\\item 12.9457228834366\n",
       "\\item 16.8072441702259\n",
       "\\item 18.6735291019507\n",
       "\\item 17.84736330625\n",
       "\\item 18.2448761583311\n",
       "\\item 16.9585685881689\n",
       "\\item 15.0927788390296\n",
       "\\item 14.6138293001095\n",
       "\\item 16.6204114572305\n",
       "\\item 18.5181419716252\n",
       "\\item 15.448065911303\n",
       "\\item 14.119221396852\n",
       "\\item 15.1788716544704\n",
       "\\item 14.2629163433525\n",
       "\\item 12.9458285658652\n",
       "\\item 16.2778034967521\n",
       "\\item 18.162339610548\n",
       "\\item 15.1920065296107\n",
       "\\item 16.9109766717367\n",
       "\\item 19.5214764712518\n",
       "\\item 18.0680817611951\n",
       "\\item 17.2402995299339\n",
       "\\item 17.6741311254121\n",
       "\\item 17.611917199834\n",
       "\\item 17.9960679657092\n",
       "\\item 18.8172907342914\n",
       "\\item 18.7934384522823\n",
       "\\item 18.6968917920698\n",
       "\\item 19.276735927128\n",
       "\\item 19.6286364612963\n",
       "\\item 19.5694338177595\n",
       "\\item 19.3076192230552\n",
       "\\item 18.9013626560482\n",
       "\\item 18.4054809533448\n",
       "\\item 18.6920459276774\n",
       "\\item 18.5998993442054\n",
       "\\item 18.3280100161052\n",
       "\\item 18.9169284679374\n",
       "\\item 19.0547009377111\n",
       "\\item 19.2311882783821\n",
       "\\item 19.1214693437164\n",
       "\\item 19.0186580212203\n",
       "\\item 19.4515568226317\n",
       "\\item 19.8766683199516\n",
       "\\item 18.6770970701781\n",
       "\\item 16.562484658387\n",
       "\\item 15.1378691092086\n",
       "\\item 14.8429405815838\n",
       "\\item 13.8130680115179\n",
       "\\item 12.8669752313994\n",
       "\\item 12.2361485556732\n",
       "\\item 12.2361485556732\n",
       "\\item 12.9458285658652\n",
       "\\item 12.9458285658652\n",
       "\\item 12.9458285658652\n",
       "\\item 12.9458285658652\n",
       "\\item 12.2361485556732\n",
       "\\item 12.9458285658652\n",
       "\\item 15.554544279741\n",
       "\\item 17.0398046872435\n",
       "\\item 16.6213290158673\n",
       "\\item 17.7894907613764\n",
       "\\item 18.998496799813\n",
       "\\item 18.8350576670804\n",
       "\\item 18.670747915536\n",
       "\\item 18.1778512797213\n",
       "\\item 18.7361433501692\n",
       "\\item 18.7119788182123\n",
       "\\item 18.6986815062858\n",
       "\\item 18.7332667877027\n",
       "\\item 19.2233927638863\n",
       "\\item 19.0537682233278\n",
       "\\item 19.2854437437207\n",
       "\\item 19.372996137982\n",
       "\\item 19.2893244472219\n",
       "\\item 18.8227540726992\n",
       "\\item 18.9627750213112\n",
       "\\item 19.0939205432142\n",
       "\\item 18.7895099920442\n",
       "\\item 19.0983415788251\n",
       "\\item 19.039036473636\n",
       "\\item 19.4756480999808\n",
       "\\item 19.8423928919501\n",
       "\\item 19.7810034498124\n",
       "\\item 19.6303734744395\n",
       "\\item 19.7144677941678\n",
       "\\item 19.7383302069011\n",
       "\\item 19.5617436841406\n",
       "\\item 19.2150889219711\n",
       "\\item 19.339556983857\n",
       "\\item 19.1713374099912\n",
       "\\item 18.9572539440082\n",
       "\\item 16.458999959465\n",
       "\\item 17.4664387543656\n",
       "\\item 19.6544387491775\n",
       "\\item 18.5046161849132\n",
       "\\item 18.0530753191282\n",
       "\\item 19.0767196757907\n",
       "\\item 19.1648486657756\n",
       "\\item 16.3837725860801\n",
       "\\item 14.8379849107833\n",
       "\\item 14.6283631821936\n",
       "\\item 13.8764559738339\n",
       "\\item 12.9458285658652\n",
       "\\item 12.9458285658652\n",
       "\\item 15.8173049829579\n",
       "\\item 15.1178494685233\n",
       "\\item 13.1465948080601\n",
       "\\item 14.0308813847471\n",
       "\\item 14.1555362835347\n",
       "\\item 12.8669752313994\n",
       "\\item 12.8669752313994\n",
       "\\item 12.8669752313994\n",
       "\\item 12.8669752313994\n",
       "\\item 12.8669752313994\n",
       "\\item 12.8669752313994\n",
       "\\item 12.8669752313994\n",
       "\\item 12.8669752313994\n",
       "\\item 12.8669752313994\n",
       "\\item 12.8669752313994\n",
       "\\item 12.8669752313994\n",
       "\\end{enumerate*}\n"
      ],
      "text/markdown": [
       "1. 12.9457228834366\n",
       "2. 16.8072441702259\n",
       "3. 18.6735291019507\n",
       "4. 17.84736330625\n",
       "5. 18.2448761583311\n",
       "6. 16.9585685881689\n",
       "7. 15.0927788390296\n",
       "8. 14.6138293001095\n",
       "9. 16.6204114572305\n",
       "10. 18.5181419716252\n",
       "11. 15.448065911303\n",
       "12. 14.119221396852\n",
       "13. 15.1788716544704\n",
       "14. 14.2629163433525\n",
       "15. 12.9458285658652\n",
       "16. 16.2778034967521\n",
       "17. 18.162339610548\n",
       "18. 15.1920065296107\n",
       "19. 16.9109766717367\n",
       "20. 19.5214764712518\n",
       "21. 18.0680817611951\n",
       "22. 17.2402995299339\n",
       "23. 17.6741311254121\n",
       "24. 17.611917199834\n",
       "25. 17.9960679657092\n",
       "26. 18.8172907342914\n",
       "27. 18.7934384522823\n",
       "28. 18.6968917920698\n",
       "29. 19.276735927128\n",
       "30. 19.6286364612963\n",
       "31. 19.5694338177595\n",
       "32. 19.3076192230552\n",
       "33. 18.9013626560482\n",
       "34. 18.4054809533448\n",
       "35. 18.6920459276774\n",
       "36. 18.5998993442054\n",
       "37. 18.3280100161052\n",
       "38. 18.9169284679374\n",
       "39. 19.0547009377111\n",
       "40. 19.2311882783821\n",
       "41. 19.1214693437164\n",
       "42. 19.0186580212203\n",
       "43. 19.4515568226317\n",
       "44. 19.8766683199516\n",
       "45. 18.6770970701781\n",
       "46. 16.562484658387\n",
       "47. 15.1378691092086\n",
       "48. 14.8429405815838\n",
       "49. 13.8130680115179\n",
       "50. 12.8669752313994\n",
       "51. 12.2361485556732\n",
       "52. 12.2361485556732\n",
       "53. 12.9458285658652\n",
       "54. 12.9458285658652\n",
       "55. 12.9458285658652\n",
       "56. 12.9458285658652\n",
       "57. 12.2361485556732\n",
       "58. 12.9458285658652\n",
       "59. 15.554544279741\n",
       "60. 17.0398046872435\n",
       "61. 16.6213290158673\n",
       "62. 17.7894907613764\n",
       "63. 18.998496799813\n",
       "64. 18.8350576670804\n",
       "65. 18.670747915536\n",
       "66. 18.1778512797213\n",
       "67. 18.7361433501692\n",
       "68. 18.7119788182123\n",
       "69. 18.6986815062858\n",
       "70. 18.7332667877027\n",
       "71. 19.2233927638863\n",
       "72. 19.0537682233278\n",
       "73. 19.2854437437207\n",
       "74. 19.372996137982\n",
       "75. 19.2893244472219\n",
       "76. 18.8227540726992\n",
       "77. 18.9627750213112\n",
       "78. 19.0939205432142\n",
       "79. 18.7895099920442\n",
       "80. 19.0983415788251\n",
       "81. 19.039036473636\n",
       "82. 19.4756480999808\n",
       "83. 19.8423928919501\n",
       "84. 19.7810034498124\n",
       "85. 19.6303734744395\n",
       "86. 19.7144677941678\n",
       "87. 19.7383302069011\n",
       "88. 19.5617436841406\n",
       "89. 19.2150889219711\n",
       "90. 19.339556983857\n",
       "91. 19.1713374099912\n",
       "92. 18.9572539440082\n",
       "93. 16.458999959465\n",
       "94. 17.4664387543656\n",
       "95. 19.6544387491775\n",
       "96. 18.5046161849132\n",
       "97. 18.0530753191282\n",
       "98. 19.0767196757907\n",
       "99. 19.1648486657756\n",
       "100. 16.3837725860801\n",
       "101. 14.8379849107833\n",
       "102. 14.6283631821936\n",
       "103. 13.8764559738339\n",
       "104. 12.9458285658652\n",
       "105. 12.9458285658652\n",
       "106. 15.8173049829579\n",
       "107. 15.1178494685233\n",
       "108. 13.1465948080601\n",
       "109. 14.0308813847471\n",
       "110. 14.1555362835347\n",
       "111. 12.8669752313994\n",
       "112. 12.8669752313994\n",
       "113. 12.8669752313994\n",
       "114. 12.8669752313994\n",
       "115. 12.8669752313994\n",
       "116. 12.8669752313994\n",
       "117. 12.8669752313994\n",
       "118. 12.8669752313994\n",
       "119. 12.8669752313994\n",
       "120. 12.8669752313994\n",
       "121. 12.8669752313994\n",
       "\n",
       "\n"
      ],
      "text/plain": [
       "  [1] 12.94572 16.80724 18.67353 17.84736 18.24488 16.95857 15.09278 14.61383\n",
       "  [9] 16.62041 18.51814 15.44807 14.11922 15.17887 14.26292 12.94583 16.27780\n",
       " [17] 18.16234 15.19201 16.91098 19.52148 18.06808 17.24030 17.67413 17.61192\n",
       " [25] 17.99607 18.81729 18.79344 18.69689 19.27674 19.62864 19.56943 19.30762\n",
       " [33] 18.90136 18.40548 18.69205 18.59990 18.32801 18.91693 19.05470 19.23119\n",
       " [41] 19.12147 19.01866 19.45156 19.87667 18.67710 16.56248 15.13787 14.84294\n",
       " [49] 13.81307 12.86698 12.23615 12.23615 12.94583 12.94583 12.94583 12.94583\n",
       " [57] 12.23615 12.94583 15.55454 17.03980 16.62133 17.78949 18.99850 18.83506\n",
       " [65] 18.67075 18.17785 18.73614 18.71198 18.69868 18.73327 19.22339 19.05377\n",
       " [73] 19.28544 19.37300 19.28932 18.82275 18.96278 19.09392 18.78951 19.09834\n",
       " [81] 19.03904 19.47565 19.84239 19.78100 19.63037 19.71447 19.73833 19.56174\n",
       " [89] 19.21509 19.33956 19.17134 18.95725 16.45900 17.46644 19.65444 18.50462\n",
       " [97] 18.05308 19.07672 19.16485 16.38377 14.83798 14.62836 13.87646 12.94583\n",
       "[105] 12.94583 15.81730 15.11785 13.14659 14.03088 14.15554 12.86698 12.86698\n",
       "[113] 12.86698 12.86698 12.86698 12.86698 12.86698 12.86698 12.86698 12.86698\n",
       "[121] 12.86698"
      ]
     },
     "metadata": {},
     "output_type": "display_data"
    }
   ],
   "source": [
    "counterfactual_pred"
   ]
  },
  {
   "cell_type": "code",
   "execution_count": null,
   "metadata": {
    "vscode": {
     "languageId": "r"
    }
   },
   "outputs": [],
   "source": [
    "#write.csv(counterfactual_pred, file=\"data/experiments/experiment_one_counterfactual_outcome.csv\", row.names=FALSE)"
   ]
  }
 ],
 "metadata": {
  "kernelspec": {
   "display_name": "R",
   "language": "R",
   "name": "ir"
  },
  "language_info": {
   "codemirror_mode": "r",
   "file_extension": ".r",
   "mimetype": "text/x-r-source",
   "name": "R",
   "pygments_lexer": "r",
   "version": "4.3.1"
  },
  "orig_nbformat": 4
 },
 "nbformat": 4,
 "nbformat_minor": 2
}

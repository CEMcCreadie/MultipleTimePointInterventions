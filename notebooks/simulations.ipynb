{
 "cells": [
  {
   "cell_type": "code",
   "execution_count": 3,
   "metadata": {
    "vscode": {
     "languageId": "r"
    }
   },
   "outputs": [
    {
     "name": "stderr",
     "output_type": "stream",
     "text": [
      "origami v1.0.7: Generalized Framework for Cross-Validation\n",
      "\n",
      "\n",
      "Attaching package: 'data.table'\n",
      "\n",
      "\n",
      "The following object is masked from 'package:rje':\n",
      "\n",
      "    last\n",
      "\n",
      "\n",
      "Loading required package: foreach\n",
      "\n",
      "Loading required package: iterators\n",
      "\n",
      "Loading required package: parallel\n",
      "\n"
     ]
    }
   ],
   "source": [
    "source(\"tstmle.R\")\n",
    "library(glue)\n",
    "library(rje)\n",
    "library(data.table)\n",
    "library(doParallel)"
   ]
  },
  {
   "attachments": {},
   "cell_type": "markdown",
   "metadata": {},
   "source": [
    "<h1>Simulation 1: Average over time of context-specific causal effects of single time time point intervention</h1>"
   ]
  },
  {
   "attachments": {},
   "cell_type": "markdown",
   "metadata": {},
   "source": [
    "$$\n",
    "\\Psi^N(P^N) = \\frac{1}{N}\\sum_{t=1}^N\\{\\mathbb{E}(Y(t)|A(t)=1, c_o(t)) - \\mathbb{E}(Y(t)|A(t)=0, c_o(t))\\}\n",
    "$$"
   ]
  },
  {
   "cell_type": "code",
   "execution_count": 5,
   "metadata": {
    "vscode": {
     "languageId": "r"
    }
   },
   "outputs": [],
   "source": [
    "N <- 100\n",
    "monte_carlo_draws <- 500\n",
    "folder <- \"simulation_data\""
   ]
  },
  {
   "attachments": {},
   "cell_type": "markdown",
   "metadata": {},
   "source": [
    "<h3>Simulation 1a (simple dependence)</h3>\n",
    "\n",
    "Binary Treatment and Outcome, with dependence of Markov order 2.\n",
    "We observe 3 covariates, $W_1(t),W_2(t),W_3(t)$. The first and third are drawn from a bernoulli distribution and the second from a discrete uniform distribution.\n",
    "\n",
    "We let $A(t)$ be a be function of $W_1(t-1),W_2(t-1),Y(t-1),A(t-1)$ and $W_3(t-2)$\n",
    "$Y(t)$ also exhibts dependence of order $2$, $W_1(t-1),W_2(t-1),W_3(t-1),A(t), W_1(t-2),W_3(t-2)$."
   ]
  },
  {
   "attachments": {},
   "cell_type": "markdown",
   "metadata": {},
   "source": [
    "$$A(0:4) \\sim \\text{Bern}(0.5) $$\n",
    "$$Y(0:4) \\sim \\text{Bern}(0.5) $$\n",
    "$$W_1(0:n) \\sim \\text{Bern}(0.5) $$\n",
    "$$W_2(0:n) \\sim \\text{Unif}(1,3) $$\n",
    "$$W_3(0:n) \\sim \\text{Bern}(0.5) $$\n",
    "\n",
    "$$A(4:n) \\sim \\text{Bern}(\\text{expit}(0.25 * W_1(t-1) - 0.2 *W_2(t-1) \\\\+ 0.3 * Y(t-1) - 0.2 * A(t-1) \\\\ + 0.2 * W_3(t-2))) $$\n",
    "$$Y(4:n) \\sim \\text{Bern}(\\text{expit}(0.3 - 0.8 * W_1(t-1) + 0.1 *W_2(t-1) \\\\ + 0.2 * W_3(t-1) + A(t) - 0.5 * W_1(t-2) \\\\ + 0.2 * W_3(t-2))) $$"
   ]
  },
  {
   "attachments": {},
   "cell_type": "markdown",
   "metadata": {},
   "source": [
    "What is the expected Average Treatment Effect for this defined process? I'm unsure if there's a way one can explicitly calculate it from the system of equations. But running the proccess for a extremely large N, and manually calculated the difference in probabilities (for either A equal to 1 or 0) of Y at every row I got $\\text{ATE}\\approx0.218$"
   ]
  },
  {
   "cell_type": "code",
   "execution_count": 9,
   "metadata": {
    "vscode": {
     "languageId": "r"
    }
   },
   "outputs": [],
   "source": [
    "simulation_1a_true_ATE <- 0.218"
   ]
  },
  {
   "cell_type": "code",
   "execution_count": 5,
   "metadata": {
    "vscode": {
     "languageId": "r"
    }
   },
   "outputs": [],
   "source": [
    "simulation_1a <- function(){\n",
    "    # Using rbinom(_, 1, _) seems easiest way to get the behaviour of a bernoulli trial \n",
    "    W <- data.frame(\n",
    "        \"W1\" = rbinom(N, 1, 0.5),\n",
    "        \"W2\" = ceiling(runif(N, 0, 3)), # Equivalent to uniform 1 to 3\n",
    "        \"W3\" = rbinom(N, 1, 0.5)\n",
    "    )\n",
    "\n",
    "    A <- numeric(N)\n",
    "    Y <- numeric(N)\n",
    "    A[1:4] <- rbinom(4, 1, 0.5)\n",
    "    Y[1:4] <- rbinom(4, 1, 0.5)\n",
    "\n",
    "\n",
    "    # W[i, j] <- i'th row, j'th column\n",
    "    for(i in 5:N){\n",
    "        p <- expit(0.25*W[(i-1), 1] - 0.2*W[(i-1), 2] + 0.3*Y[(i-1)] \n",
    "            - 0.2*A[(i-1)] + 0.2*W[(i-2), 3]\n",
    "        )\n",
    "        A[i] <- rbinom(1, 1, p)\n",
    "        p <- expit(0.3 - 0.8*W[(i-1), 1] + 0.1*W[(i-1), 2] + 0.2*W[(i-1),3] \n",
    "            + A[i] - 0.5*W[(i-2), 1] + 0.2*W[(i-2), 3]\n",
    "        )\n",
    "        Y[i] <- rbinom(1, 1, p)\n",
    "    }\n",
    "\n",
    "    data <- cbind(W,A,Y)\n",
    "    return(data)\n",
    "}"
   ]
  },
  {
   "cell_type": "code",
   "execution_count": 28,
   "metadata": {
    "vscode": {
     "languageId": "r"
    }
   },
   "outputs": [],
   "source": [
    "source(\"tstmle.R\")\n",
    "\n",
    "file <- glue(\"{folder}/simulation1a_MC{monte_carlo_draws}_N{N}.rds\")\n",
    "\n",
    "node_list <- list(\n",
    "    W = c(\"W1\", \"W2\", \"W3\"),\n",
    "    A = \"A\",\n",
    "    Y = \"Y\"\n",
    ")\n",
    "ate_spec <- tmle_ATE(treatment_level = 1, control_level=0)\n",
    "\n",
    "tmle_fits <- data.table()\n",
    "\n",
    "# nworkers <- detectCores()\n",
    "# cl <- makePSOCKcluster(nworkers)\n",
    "# registerDoParallel(cl)\n",
    "\n",
    "# for (i in 1:monte_carlo_draws){\n",
    "#     draw <- simulation_1a()\n",
    "#     tmle_fit <- run_tstmle(ate_spec, draw, node_list, markov_order=3)\n",
    "#     tmle_fits <- rbind(tmle_fits, tmle_fit$summary)\n",
    "# }\n",
    "\n",
    "# tmle_fits <- foreach(i = 1:monte_carlo_draws, .combine='rbind', .packages=c(\"rje\",\"sl3\",\"origami\",\"tmle3\")) %dopar% {\n",
    "#     draw <- simulation_1a()\n",
    "#     tmle_fit <- run_tstmle(ate_spec, draw, node_list, markov_order=3)\n",
    "#     tmle_fit$summary\n",
    "# }\n",
    "\n",
    "#saveRDS(tmle_fits, file)"
   ]
  },
  {
   "cell_type": "code",
   "execution_count": 29,
   "metadata": {
    "vscode": {
     "languageId": "r"
    }
   },
   "outputs": [
    {
     "data": {
      "text/html": [
       "0.69"
      ],
      "text/latex": [
       "0.69"
      ],
      "text/markdown": [
       "0.69"
      ],
      "text/plain": [
       "[1] 0.69"
      ]
     },
     "metadata": {},
     "output_type": "display_data"
    }
   ],
   "source": [
    "mean(simulation_1a()$\"Y\")"
   ]
  },
  {
   "cell_type": "code",
   "execution_count": 31,
   "metadata": {
    "vscode": {
     "languageId": "r"
    }
   },
   "outputs": [],
   "source": [
    "tmle_fits <- readRDS(file)"
   ]
  },
  {
   "cell_type": "code",
   "execution_count": 32,
   "metadata": {
    "vscode": {
     "languageId": "r"
    }
   },
   "outputs": [
    {
     "data": {
      "text/html": [
       "<table class=\"dataframe\">\n",
       "<caption>A data.table: 6 x 10</caption>\n",
       "<thead>\n",
       "\t<tr><th scope=col>type</th><th scope=col>param</th><th scope=col>init_est</th><th scope=col>tmle_est</th><th scope=col>se</th><th scope=col>lower</th><th scope=col>upper</th><th scope=col>psi_transformed</th><th scope=col>lower_transformed</th><th scope=col>upper_transformed</th></tr>\n",
       "\t<tr><th scope=col>&lt;chr&gt;</th><th scope=col>&lt;chr&gt;</th><th scope=col>&lt;dbl&gt;</th><th scope=col>&lt;dbl&gt;</th><th scope=col>&lt;dbl&gt;</th><th scope=col>&lt;dbl&gt;</th><th scope=col>&lt;dbl&gt;</th><th scope=col>&lt;dbl&gt;</th><th scope=col>&lt;dbl&gt;</th><th scope=col>&lt;dbl&gt;</th></tr>\n",
       "</thead>\n",
       "<tbody>\n",
       "\t<tr><td>ATE</td><td>ATE[Y_{A=1}-Y_{A=0}]</td><td>0.29000790</td><td>0.3362846</td><td>0.08210004</td><td> 0.1753715325</td><td>0.4971978</td><td>0.3362846</td><td> 0.1753715325</td><td>0.4971978</td></tr>\n",
       "\t<tr><td>ATE</td><td>ATE[Y_{A=1}-Y_{A=0}]</td><td>0.07647541</td><td>0.2338892</td><td>0.09402554</td><td> 0.0496024812</td><td>0.4181758</td><td>0.2338892</td><td> 0.0496024812</td><td>0.4181758</td></tr>\n",
       "\t<tr><td>ATE</td><td>ATE[Y_{A=1}-Y_{A=0}]</td><td>0.13384857</td><td>0.2263521</td><td>0.11530654</td><td> 0.0003554357</td><td>0.4523488</td><td>0.2263521</td><td> 0.0003554357</td><td>0.4523488</td></tr>\n",
       "\t<tr><td>ATE</td><td>ATE[Y_{A=1}-Y_{A=0}]</td><td>0.13537640</td><td>0.2064263</td><td>0.09758799</td><td> 0.0151573449</td><td>0.3976952</td><td>0.2064263</td><td> 0.0151573449</td><td>0.3976952</td></tr>\n",
       "\t<tr><td>ATE</td><td>ATE[Y_{A=1}-Y_{A=0}]</td><td>0.16369402</td><td>0.2410985</td><td>0.09892506</td><td> 0.0472089430</td><td>0.4349880</td><td>0.2410985</td><td> 0.0472089430</td><td>0.4349880</td></tr>\n",
       "\t<tr><td>ATE</td><td>ATE[Y_{A=1}-Y_{A=0}]</td><td>0.07928709</td><td>0.1884728</td><td>0.10649724</td><td>-0.0202579931</td><td>0.3972035</td><td>0.1884728</td><td>-0.0202579931</td><td>0.3972035</td></tr>\n",
       "</tbody>\n",
       "</table>\n"
      ],
      "text/latex": [
       "A data.table: 6 x 10\n",
       "\\begin{tabular}{llllllllll}\n",
       " type & param & init\\_est & tmle\\_est & se & lower & upper & psi\\_transformed & lower\\_transformed & upper\\_transformed\\\\\n",
       " <chr> & <chr> & <dbl> & <dbl> & <dbl> & <dbl> & <dbl> & <dbl> & <dbl> & <dbl>\\\\\n",
       "\\hline\n",
       "\t ATE & ATE{[}Y\\_\\{A=1\\}-Y\\_\\{A=0\\}{]} & 0.29000790 & 0.3362846 & 0.08210004 &  0.1753715325 & 0.4971978 & 0.3362846 &  0.1753715325 & 0.4971978\\\\\n",
       "\t ATE & ATE{[}Y\\_\\{A=1\\}-Y\\_\\{A=0\\}{]} & 0.07647541 & 0.2338892 & 0.09402554 &  0.0496024812 & 0.4181758 & 0.2338892 &  0.0496024812 & 0.4181758\\\\\n",
       "\t ATE & ATE{[}Y\\_\\{A=1\\}-Y\\_\\{A=0\\}{]} & 0.13384857 & 0.2263521 & 0.11530654 &  0.0003554357 & 0.4523488 & 0.2263521 &  0.0003554357 & 0.4523488\\\\\n",
       "\t ATE & ATE{[}Y\\_\\{A=1\\}-Y\\_\\{A=0\\}{]} & 0.13537640 & 0.2064263 & 0.09758799 &  0.0151573449 & 0.3976952 & 0.2064263 &  0.0151573449 & 0.3976952\\\\\n",
       "\t ATE & ATE{[}Y\\_\\{A=1\\}-Y\\_\\{A=0\\}{]} & 0.16369402 & 0.2410985 & 0.09892506 &  0.0472089430 & 0.4349880 & 0.2410985 &  0.0472089430 & 0.4349880\\\\\n",
       "\t ATE & ATE{[}Y\\_\\{A=1\\}-Y\\_\\{A=0\\}{]} & 0.07928709 & 0.1884728 & 0.10649724 & -0.0202579931 & 0.3972035 & 0.1884728 & -0.0202579931 & 0.3972035\\\\\n",
       "\\end{tabular}\n"
      ],
      "text/markdown": [
       "\n",
       "A data.table: 6 x 10\n",
       "\n",
       "| type &lt;chr&gt; | param &lt;chr&gt; | init_est &lt;dbl&gt; | tmle_est &lt;dbl&gt; | se &lt;dbl&gt; | lower &lt;dbl&gt; | upper &lt;dbl&gt; | psi_transformed &lt;dbl&gt; | lower_transformed &lt;dbl&gt; | upper_transformed &lt;dbl&gt; |\n",
       "|---|---|---|---|---|---|---|---|---|---|\n",
       "| ATE | ATE[Y_{A=1}-Y_{A=0}] | 0.29000790 | 0.3362846 | 0.08210004 |  0.1753715325 | 0.4971978 | 0.3362846 |  0.1753715325 | 0.4971978 |\n",
       "| ATE | ATE[Y_{A=1}-Y_{A=0}] | 0.07647541 | 0.2338892 | 0.09402554 |  0.0496024812 | 0.4181758 | 0.2338892 |  0.0496024812 | 0.4181758 |\n",
       "| ATE | ATE[Y_{A=1}-Y_{A=0}] | 0.13384857 | 0.2263521 | 0.11530654 |  0.0003554357 | 0.4523488 | 0.2263521 |  0.0003554357 | 0.4523488 |\n",
       "| ATE | ATE[Y_{A=1}-Y_{A=0}] | 0.13537640 | 0.2064263 | 0.09758799 |  0.0151573449 | 0.3976952 | 0.2064263 |  0.0151573449 | 0.3976952 |\n",
       "| ATE | ATE[Y_{A=1}-Y_{A=0}] | 0.16369402 | 0.2410985 | 0.09892506 |  0.0472089430 | 0.4349880 | 0.2410985 |  0.0472089430 | 0.4349880 |\n",
       "| ATE | ATE[Y_{A=1}-Y_{A=0}] | 0.07928709 | 0.1884728 | 0.10649724 | -0.0202579931 | 0.3972035 | 0.1884728 | -0.0202579931 | 0.3972035 |\n",
       "\n"
      ],
      "text/plain": [
       "  type param                init_est   tmle_est  se         lower        \n",
       "1 ATE  ATE[Y_{A=1}-Y_{A=0}] 0.29000790 0.3362846 0.08210004  0.1753715325\n",
       "2 ATE  ATE[Y_{A=1}-Y_{A=0}] 0.07647541 0.2338892 0.09402554  0.0496024812\n",
       "3 ATE  ATE[Y_{A=1}-Y_{A=0}] 0.13384857 0.2263521 0.11530654  0.0003554357\n",
       "4 ATE  ATE[Y_{A=1}-Y_{A=0}] 0.13537640 0.2064263 0.09758799  0.0151573449\n",
       "5 ATE  ATE[Y_{A=1}-Y_{A=0}] 0.16369402 0.2410985 0.09892506  0.0472089430\n",
       "6 ATE  ATE[Y_{A=1}-Y_{A=0}] 0.07928709 0.1884728 0.10649724 -0.0202579931\n",
       "  upper     psi_transformed lower_transformed upper_transformed\n",
       "1 0.4971978 0.3362846        0.1753715325     0.4971978        \n",
       "2 0.4181758 0.2338892        0.0496024812     0.4181758        \n",
       "3 0.4523488 0.2263521        0.0003554357     0.4523488        \n",
       "4 0.3976952 0.2064263        0.0151573449     0.3976952        \n",
       "5 0.4349880 0.2410985        0.0472089430     0.4349880        \n",
       "6 0.3972035 0.1884728       -0.0202579931     0.3972035        "
      ]
     },
     "metadata": {},
     "output_type": "display_data"
    }
   ],
   "source": [
    "head(tmle_fits)"
   ]
  },
  {
   "cell_type": "code",
   "execution_count": 33,
   "metadata": {
    "vscode": {
     "languageId": "r"
    }
   },
   "outputs": [
    {
     "data": {
      "image/png": "[encoded data removed]",
      "text/plain": [
       "Plot with title \"Histogram of estimates\""
      ]
     },
     "metadata": {
      "image/png": {
       "height": 420,
       "width": 420
      }
     },
     "output_type": "display_data"
    }
   ],
   "source": [
    "estimates <- tmle_fits$\"tmle_est\"\n",
    "hist(estimates)\n",
    "abline(v = simulation_1a_true_ATE, col='red', lwd = 3, lty = 2)"
   ]
  },
  {
   "attachments": {},
   "cell_type": "markdown",
   "metadata": {},
   "source": [
    "Variance is just standard error squared?"
   ]
  },
  {
   "cell_type": "code",
   "execution_count": 10,
   "metadata": {
    "vscode": {
     "languageId": "r"
    }
   },
   "outputs": [
    {
     "name": "stdout",
     "output_type": "stream",
     "text": [
      "[1] 0.0719157\n",
      "[1] 0.001187402\n",
      "[1] 0.4\n"
     ]
    }
   ],
   "source": [
    "# In the paper they get a negative bias, but taking the average with using the magnitude of the error seem's fishy?\n",
    "average_bias <- function(tmle_fits, true_param){\n",
    "    mean(tmle_fits$\"tmle_est\" - true_param)\n",
    "}\n",
    "\n",
    "average_variance <- function(tmle_fits){\n",
    "    mean((tmle_fits$\"se\")^2)\n",
    "}\n",
    "\n",
    "coverage <- function(tmle_fits, true_param){\n",
    "    n <- length(tmle_fits)\n",
    "    agg <- numeric(n)\n",
    "    for(i in 1:n){\n",
    "        lower <- tmle_fits$\"lower\"[i]\n",
    "        upper <- tmle_fits$\"upper\"[i]\n",
    "        if(lower <= true_param && true_param <= upper){\n",
    "            agg[i] <- 1\n",
    "        }\n",
    "    }\n",
    "    return(mean(agg))\n",
    "}\n",
    "\n",
    "print(average_bias(tmle_fits, simulation_1a_true_ATE))\n",
    "\n",
    "print(average_variance(tmle_fits))\n",
    "\n",
    "print(coverage(tmle_fits, simulation_1a_true_ATE))"
   ]
  },
  {
   "attachments": {},
   "cell_type": "markdown",
   "metadata": {},
   "source": [
    "<h1>Situation 1c: More Elaborate Dependence</h1>\n",
    "\n",
    "$$\n",
    "A(0: 6) \\sim \\text{Bern}(0.5) \\\\\n",
    "Y(0: 6) \\sim \\text{Bern}(0.5) \\\\\n",
    "W_1(0: 6) \\sim \\text{Bern}(0.5) \\\\\n",
    "W_2(0: 6) \\sim \\text{Normal}(0, 1) \\\\\n",
    "\n",
    "A(6 : n) \\sim \\text{Bern}\\bigg(\\text{expit}\\big(0.7 * W_1(t-2) - 0.3*A(t-1) + 0.2 * sin(W_t(t-2) * A(t-3))\\big)\\bigg) \\\\\n",
    " \n",
    "Y(6 : n) \\sim \\text{Bern}\\bigg(\\text{expit}\\big(1.5 * A(t) - (W_1(t-1) * A(t-2))^2 + 0.9 * sin(W_2(t-4))*A(t-3)*cos(W_2(t-6)) - abs(W_2(t-5)>0)\\big)\\bigg) \\\\\n",
    "\n",
    "W_1(6:n) \\sim \\text{Bern}(\\text{expit}(0.5 * W_1(t-1) - 0.5 * Y(t-1) + 0.1*W_2(t-1)))\\\\\n",
    "\n",
    "W_2(6: n) \\sim \\text{Normal}(0.6 * A(t-1)+Y(t-1)-W_1(t-1), 1) \n",
    "$$"
   ]
  },
  {
   "cell_type": "code",
   "execution_count": 1,
   "metadata": {
    "vscode": {
     "languageId": "r"
    }
   },
   "outputs": [],
   "source": [
    "simulation_1c_true_ATE <- 0.279"
   ]
  },
  {
   "cell_type": "code",
   "execution_count": 18,
   "metadata": {
    "vscode": {
     "languageId": "r"
    }
   },
   "outputs": [
    {
     "data": {
      "text/html": [
       "<table class=\"dataframe\">\n",
       "<caption>A matrix: 100 x 4 of type dbl</caption>\n",
       "<thead>\n",
       "\t<tr><th scope=col>W1</th><th scope=col>W2</th><th scope=col>A</th><th scope=col>Y</th></tr>\n",
       "</thead>\n",
       "<tbody>\n",
       "\t<tr><td>1</td><td>-0.37115787</td><td>1</td><td>1</td></tr>\n",
       "\t<tr><td>1</td><td>-0.75948196</td><td>1</td><td>0</td></tr>\n",
       "\t<tr><td>1</td><td>-0.61553112</td><td>1</td><td>1</td></tr>\n",
       "\t<tr><td>1</td><td>-0.30651393</td><td>0</td><td>1</td></tr>\n",
       "\t<tr><td>0</td><td>-0.24069269</td><td>0</td><td>0</td></tr>\n",
       "\t<tr><td>0</td><td> 0.78495407</td><td>1</td><td>0</td></tr>\n",
       "\t<tr><td>1</td><td>-1.23971882</td><td>1</td><td>0</td></tr>\n",
       "\t<tr><td>0</td><td>-0.17256339</td><td>1</td><td>1</td></tr>\n",
       "\t<tr><td>1</td><td> 2.88546380</td><td>1</td><td>1</td></tr>\n",
       "\t<tr><td>1</td><td> 1.04875218</td><td>1</td><td>1</td></tr>\n",
       "\t<tr><td>0</td><td> 1.96527220</td><td>1</td><td>0</td></tr>\n",
       "\t<tr><td>1</td><td> 1.00820054</td><td>1</td><td>0</td></tr>\n",
       "\t<tr><td>1</td><td>-0.31942282</td><td>1</td><td>1</td></tr>\n",
       "\t<tr><td>0</td><td> 0.83597408</td><td>1</td><td>1</td></tr>\n",
       "\t<tr><td>0</td><td> 1.55689087</td><td>1</td><td>0</td></tr>\n",
       "\t<tr><td>0</td><td> 0.04381792</td><td>1</td><td>0</td></tr>\n",
       "\t<tr><td>0</td><td>-0.08945895</td><td>1</td><td>0</td></tr>\n",
       "\t<tr><td>1</td><td> 0.32803219</td><td>1</td><td>1</td></tr>\n",
       "\t<tr><td>1</td><td> 0.17763019</td><td>1</td><td>0</td></tr>\n",
       "\t<tr><td>1</td><td>-0.13239952</td><td>1</td><td>0</td></tr>\n",
       "\t<tr><td>1</td><td>-0.26427341</td><td>1</td><td>0</td></tr>\n",
       "\t<tr><td>1</td><td> 0.94419542</td><td>1</td><td>1</td></tr>\n",
       "\t<tr><td>0</td><td> 1.07777878</td><td>1</td><td>1</td></tr>\n",
       "\t<tr><td>1</td><td> 1.11721279</td><td>1</td><td>1</td></tr>\n",
       "\t<tr><td>1</td><td> 2.14024219</td><td>1</td><td>1</td></tr>\n",
       "\t<tr><td>0</td><td>-2.17708629</td><td>1</td><td>1</td></tr>\n",
       "\t<tr><td>0</td><td> 1.10233545</td><td>1</td><td>1</td></tr>\n",
       "\t<tr><td>0</td><td> 2.02294257</td><td>1</td><td>0</td></tr>\n",
       "\t<tr><td>1</td><td> 0.52356149</td><td>1</td><td>1</td></tr>\n",
       "\t<tr><td>1</td><td> 1.38657768</td><td>1</td><td>0</td></tr>\n",
       "\t<tr><td>...</td><td>...</td><td>...</td><td>...</td></tr>\n",
       "\t<tr><td>1</td><td> 1.23482722</td><td>1</td><td>1</td></tr>\n",
       "\t<tr><td>1</td><td> 0.36172364</td><td>1</td><td>0</td></tr>\n",
       "\t<tr><td>1</td><td>-1.00960387</td><td>1</td><td>0</td></tr>\n",
       "\t<tr><td>1</td><td> 1.50328349</td><td>1</td><td>0</td></tr>\n",
       "\t<tr><td>1</td><td> 0.20110115</td><td>1</td><td>0</td></tr>\n",
       "\t<tr><td>1</td><td>-0.72002107</td><td>1</td><td>0</td></tr>\n",
       "\t<tr><td>1</td><td> 2.52850786</td><td>1</td><td>0</td></tr>\n",
       "\t<tr><td>1</td><td>-1.07955460</td><td>1</td><td>0</td></tr>\n",
       "\t<tr><td>0</td><td> 0.02561796</td><td>1</td><td>1</td></tr>\n",
       "\t<tr><td>0</td><td> 2.36396403</td><td>1</td><td>1</td></tr>\n",
       "\t<tr><td>1</td><td>-0.88175571</td><td>1</td><td>0</td></tr>\n",
       "\t<tr><td>1</td><td>-0.59574784</td><td>1</td><td>0</td></tr>\n",
       "\t<tr><td>1</td><td> 0.86107058</td><td>1</td><td>0</td></tr>\n",
       "\t<tr><td>1</td><td>-1.61629900</td><td>1</td><td>1</td></tr>\n",
       "\t<tr><td>0</td><td> 1.27869075</td><td>1</td><td>0</td></tr>\n",
       "\t<tr><td>1</td><td> 1.17612503</td><td>1</td><td>1</td></tr>\n",
       "\t<tr><td>1</td><td> 0.20558505</td><td>1</td><td>0</td></tr>\n",
       "\t<tr><td>0</td><td> 0.24362710</td><td>1</td><td>0</td></tr>\n",
       "\t<tr><td>1</td><td> 1.90539512</td><td>1</td><td>1</td></tr>\n",
       "\t<tr><td>0</td><td> 0.92780829</td><td>1</td><td>0</td></tr>\n",
       "\t<tr><td>0</td><td> 1.18624340</td><td>1</td><td>0</td></tr>\n",
       "\t<tr><td>0</td><td> 0.67473372</td><td>1</td><td>1</td></tr>\n",
       "\t<tr><td>0</td><td> 1.24522709</td><td>1</td><td>1</td></tr>\n",
       "\t<tr><td>1</td><td> 1.51941574</td><td>1</td><td>1</td></tr>\n",
       "\t<tr><td>0</td><td> 0.33628146</td><td>1</td><td>0</td></tr>\n",
       "\t<tr><td>0</td><td> 0.55792819</td><td>1</td><td>0</td></tr>\n",
       "\t<tr><td>0</td><td> 3.34347462</td><td>1</td><td>1</td></tr>\n",
       "\t<tr><td>0</td><td> 1.63837649</td><td>1</td><td>1</td></tr>\n",
       "\t<tr><td>0</td><td> 3.32118373</td><td>1</td><td>1</td></tr>\n",
       "\t<tr><td>0</td><td> 3.14232561</td><td>1</td><td>1</td></tr>\n",
       "</tbody>\n",
       "</table>\n"
      ],
      "text/latex": [
       "A matrix: 100 x 4 of type dbl\n",
       "\\begin{tabular}{llll}\n",
       " W1 & W2 & A & Y\\\\\n",
       "\\hline\n",
       "\t 1 & -0.37115787 & 1 & 1\\\\\n",
       "\t 1 & -0.75948196 & 1 & 0\\\\\n",
       "\t 1 & -0.61553112 & 1 & 1\\\\\n",
       "\t 1 & -0.30651393 & 0 & 1\\\\\n",
       "\t 0 & -0.24069269 & 0 & 0\\\\\n",
       "\t 0 &  0.78495407 & 1 & 0\\\\\n",
       "\t 1 & -1.23971882 & 1 & 0\\\\\n",
       "\t 0 & -0.17256339 & 1 & 1\\\\\n",
       "\t 1 &  2.88546380 & 1 & 1\\\\\n",
       "\t 1 &  1.04875218 & 1 & 1\\\\\n",
       "\t 0 &  1.96527220 & 1 & 0\\\\\n",
       "\t 1 &  1.00820054 & 1 & 0\\\\\n",
       "\t 1 & -0.31942282 & 1 & 1\\\\\n",
       "\t 0 &  0.83597408 & 1 & 1\\\\\n",
       "\t 0 &  1.55689087 & 1 & 0\\\\\n",
       "\t 0 &  0.04381792 & 1 & 0\\\\\n",
       "\t 0 & -0.08945895 & 1 & 0\\\\\n",
       "\t 1 &  0.32803219 & 1 & 1\\\\\n",
       "\t 1 &  0.17763019 & 1 & 0\\\\\n",
       "\t 1 & -0.13239952 & 1 & 0\\\\\n",
       "\t 1 & -0.26427341 & 1 & 0\\\\\n",
       "\t 1 &  0.94419542 & 1 & 1\\\\\n",
       "\t 0 &  1.07777878 & 1 & 1\\\\\n",
       "\t 1 &  1.11721279 & 1 & 1\\\\\n",
       "\t 1 &  2.14024219 & 1 & 1\\\\\n",
       "\t 0 & -2.17708629 & 1 & 1\\\\\n",
       "\t 0 &  1.10233545 & 1 & 1\\\\\n",
       "\t 0 &  2.02294257 & 1 & 0\\\\\n",
       "\t 1 &  0.52356149 & 1 & 1\\\\\n",
       "\t 1 &  1.38657768 & 1 & 0\\\\\n",
       "\t ... & ... & ... & ...\\\\\n",
       "\t 1 &  1.23482722 & 1 & 1\\\\\n",
       "\t 1 &  0.36172364 & 1 & 0\\\\\n",
       "\t 1 & -1.00960387 & 1 & 0\\\\\n",
       "\t 1 &  1.50328349 & 1 & 0\\\\\n",
       "\t 1 &  0.20110115 & 1 & 0\\\\\n",
       "\t 1 & -0.72002107 & 1 & 0\\\\\n",
       "\t 1 &  2.52850786 & 1 & 0\\\\\n",
       "\t 1 & -1.07955460 & 1 & 0\\\\\n",
       "\t 0 &  0.02561796 & 1 & 1\\\\\n",
       "\t 0 &  2.36396403 & 1 & 1\\\\\n",
       "\t 1 & -0.88175571 & 1 & 0\\\\\n",
       "\t 1 & -0.59574784 & 1 & 0\\\\\n",
       "\t 1 &  0.86107058 & 1 & 0\\\\\n",
       "\t 1 & -1.61629900 & 1 & 1\\\\\n",
       "\t 0 &  1.27869075 & 1 & 0\\\\\n",
       "\t 1 &  1.17612503 & 1 & 1\\\\\n",
       "\t 1 &  0.20558505 & 1 & 0\\\\\n",
       "\t 0 &  0.24362710 & 1 & 0\\\\\n",
       "\t 1 &  1.90539512 & 1 & 1\\\\\n",
       "\t 0 &  0.92780829 & 1 & 0\\\\\n",
       "\t 0 &  1.18624340 & 1 & 0\\\\\n",
       "\t 0 &  0.67473372 & 1 & 1\\\\\n",
       "\t 0 &  1.24522709 & 1 & 1\\\\\n",
       "\t 1 &  1.51941574 & 1 & 1\\\\\n",
       "\t 0 &  0.33628146 & 1 & 0\\\\\n",
       "\t 0 &  0.55792819 & 1 & 0\\\\\n",
       "\t 0 &  3.34347462 & 1 & 1\\\\\n",
       "\t 0 &  1.63837649 & 1 & 1\\\\\n",
       "\t 0 &  3.32118373 & 1 & 1\\\\\n",
       "\t 0 &  3.14232561 & 1 & 1\\\\\n",
       "\\end{tabular}\n"
      ],
      "text/markdown": [
       "\n",
       "A matrix: 100 x 4 of type dbl\n",
       "\n",
       "| W1 | W2 | A | Y |\n",
       "|---|---|---|---|\n",
       "| 1 | -0.37115787 | 1 | 1 |\n",
       "| 1 | -0.75948196 | 1 | 0 |\n",
       "| 1 | -0.61553112 | 1 | 1 |\n",
       "| 1 | -0.30651393 | 0 | 1 |\n",
       "| 0 | -0.24069269 | 0 | 0 |\n",
       "| 0 |  0.78495407 | 1 | 0 |\n",
       "| 1 | -1.23971882 | 1 | 0 |\n",
       "| 0 | -0.17256339 | 1 | 1 |\n",
       "| 1 |  2.88546380 | 1 | 1 |\n",
       "| 1 |  1.04875218 | 1 | 1 |\n",
       "| 0 |  1.96527220 | 1 | 0 |\n",
       "| 1 |  1.00820054 | 1 | 0 |\n",
       "| 1 | -0.31942282 | 1 | 1 |\n",
       "| 0 |  0.83597408 | 1 | 1 |\n",
       "| 0 |  1.55689087 | 1 | 0 |\n",
       "| 0 |  0.04381792 | 1 | 0 |\n",
       "| 0 | -0.08945895 | 1 | 0 |\n",
       "| 1 |  0.32803219 | 1 | 1 |\n",
       "| 1 |  0.17763019 | 1 | 0 |\n",
       "| 1 | -0.13239952 | 1 | 0 |\n",
       "| 1 | -0.26427341 | 1 | 0 |\n",
       "| 1 |  0.94419542 | 1 | 1 |\n",
       "| 0 |  1.07777878 | 1 | 1 |\n",
       "| 1 |  1.11721279 | 1 | 1 |\n",
       "| 1 |  2.14024219 | 1 | 1 |\n",
       "| 0 | -2.17708629 | 1 | 1 |\n",
       "| 0 |  1.10233545 | 1 | 1 |\n",
       "| 0 |  2.02294257 | 1 | 0 |\n",
       "| 1 |  0.52356149 | 1 | 1 |\n",
       "| 1 |  1.38657768 | 1 | 0 |\n",
       "| ... | ... | ... | ... |\n",
       "| 1 |  1.23482722 | 1 | 1 |\n",
       "| 1 |  0.36172364 | 1 | 0 |\n",
       "| 1 | -1.00960387 | 1 | 0 |\n",
       "| 1 |  1.50328349 | 1 | 0 |\n",
       "| 1 |  0.20110115 | 1 | 0 |\n",
       "| 1 | -0.72002107 | 1 | 0 |\n",
       "| 1 |  2.52850786 | 1 | 0 |\n",
       "| 1 | -1.07955460 | 1 | 0 |\n",
       "| 0 |  0.02561796 | 1 | 1 |\n",
       "| 0 |  2.36396403 | 1 | 1 |\n",
       "| 1 | -0.88175571 | 1 | 0 |\n",
       "| 1 | -0.59574784 | 1 | 0 |\n",
       "| 1 |  0.86107058 | 1 | 0 |\n",
       "| 1 | -1.61629900 | 1 | 1 |\n",
       "| 0 |  1.27869075 | 1 | 0 |\n",
       "| 1 |  1.17612503 | 1 | 1 |\n",
       "| 1 |  0.20558505 | 1 | 0 |\n",
       "| 0 |  0.24362710 | 1 | 0 |\n",
       "| 1 |  1.90539512 | 1 | 1 |\n",
       "| 0 |  0.92780829 | 1 | 0 |\n",
       "| 0 |  1.18624340 | 1 | 0 |\n",
       "| 0 |  0.67473372 | 1 | 1 |\n",
       "| 0 |  1.24522709 | 1 | 1 |\n",
       "| 1 |  1.51941574 | 1 | 1 |\n",
       "| 0 |  0.33628146 | 1 | 0 |\n",
       "| 0 |  0.55792819 | 1 | 0 |\n",
       "| 0 |  3.34347462 | 1 | 1 |\n",
       "| 0 |  1.63837649 | 1 | 1 |\n",
       "| 0 |  3.32118373 | 1 | 1 |\n",
       "| 0 |  3.14232561 | 1 | 1 |\n",
       "\n"
      ],
      "text/plain": [
       "      W1  W2          A   Y  \n",
       " [1,] 1   -0.37115787 1   1  \n",
       " [2,] 1   -0.75948196 1   0  \n",
       " [3,] 1   -0.61553112 1   1  \n",
       " [4,] 1   -0.30651393 0   1  \n",
       " [5,] 0   -0.24069269 0   0  \n",
       " [6,] 0    0.78495407 1   0  \n",
       " [7,] 1   -1.23971882 1   0  \n",
       " [8,] 0   -0.17256339 1   1  \n",
       " [9,] 1    2.88546380 1   1  \n",
       "[10,] 1    1.04875218 1   1  \n",
       "[11,] 0    1.96527220 1   0  \n",
       "[12,] 1    1.00820054 1   0  \n",
       "[13,] 1   -0.31942282 1   1  \n",
       "[14,] 0    0.83597408 1   1  \n",
       "[15,] 0    1.55689087 1   0  \n",
       "[16,] 0    0.04381792 1   0  \n",
       "[17,] 0   -0.08945895 1   0  \n",
       "[18,] 1    0.32803219 1   1  \n",
       "[19,] 1    0.17763019 1   0  \n",
       "[20,] 1   -0.13239952 1   0  \n",
       "[21,] 1   -0.26427341 1   0  \n",
       "[22,] 1    0.94419542 1   1  \n",
       "[23,] 0    1.07777878 1   1  \n",
       "[24,] 1    1.11721279 1   1  \n",
       "[25,] 1    2.14024219 1   1  \n",
       "[26,] 0   -2.17708629 1   1  \n",
       "[27,] 0    1.10233545 1   1  \n",
       "[28,] 0    2.02294257 1   0  \n",
       "[29,] 1    0.52356149 1   1  \n",
       "[30,] 1    1.38657768 1   0  \n",
       "[31,] ... ...         ... ...\n",
       "[32,] 1    1.23482722 1   1  \n",
       "[33,] 1    0.36172364 1   0  \n",
       "[34,] 1   -1.00960387 1   0  \n",
       "[35,] 1    1.50328349 1   0  \n",
       "[36,] 1    0.20110115 1   0  \n",
       "[37,] 1   -0.72002107 1   0  \n",
       "[38,] 1    2.52850786 1   0  \n",
       "[39,] 1   -1.07955460 1   0  \n",
       "[40,] 0    0.02561796 1   1  \n",
       "[41,] 0    2.36396403 1   1  \n",
       "[42,] 1   -0.88175571 1   0  \n",
       "[43,] 1   -0.59574784 1   0  \n",
       "[44,] 1    0.86107058 1   0  \n",
       "[45,] 1   -1.61629900 1   1  \n",
       "[46,] 0    1.27869075 1   0  \n",
       "[47,] 1    1.17612503 1   1  \n",
       "[48,] 1    0.20558505 1   0  \n",
       "[49,] 0    0.24362710 1   0  \n",
       "[50,] 1    1.90539512 1   1  \n",
       "[51,] 0    0.92780829 1   0  \n",
       "[52,] 0    1.18624340 1   0  \n",
       "[53,] 0    0.67473372 1   1  \n",
       "[54,] 0    1.24522709 1   1  \n",
       "[55,] 1    1.51941574 1   1  \n",
       "[56,] 0    0.33628146 1   0  \n",
       "[57,] 0    0.55792819 1   0  \n",
       "[58,] 0    3.34347462 1   1  \n",
       "[59,] 0    1.63837649 1   1  \n",
       "[60,] 0    3.32118373 1   1  \n",
       "[61,] 0    3.14232561 1   1  "
      ]
     },
     "metadata": {},
     "output_type": "display_data"
    }
   ],
   "source": [
    "simulation_1c <- function(){\n",
    "    # Using rbinom(_, 1, _) seems easiest way to get the behaviour of a bernoulli trial \n",
    "    W1 <- numeric(N)\n",
    "    W2 <- numeric(N)\n",
    "\n",
    "    W1[1:6] <- rbinom(6, 1, 0.5)\n",
    "    W2[1:6] <- rnorm(6, 0, 1)\n",
    "\n",
    "    A <- numeric(N)\n",
    "    Y <- numeric(N)\n",
    "    A[1:6] <- rbinom(6, 1, 0.5)\n",
    "    Y[1:6] <- rbinom(6, 1, 0.5)\n",
    "\n",
    "    diff <- numeric(N)\n",
    "    # W[i, j] <- i'th row, j'th column\n",
    "    for(i in 7:N){\n",
    "        p <- expit(0.5*W1[(i-1)] - 0.5*Y[(i-1)] + 0.1*W2[i-1])\n",
    "        W1[i] <- rbinom(1, 1, p)\n",
    "\n",
    "        mu <- 0.6 * A[i-1] + Y[i-1] - W1[i-1]\n",
    "        W2[i] <- rnorm(1, mu, 1)\n",
    "\n",
    "        p <- expit( 0.7 * W1[i-2] - 0.3*A[i-1] + 0.2 * sin(W1[i-2] * A[i-3]))\n",
    "        A[i] <- rbinom(1, 1, p)\n",
    "        p <- expit(1.5 * A[i] - (W1[i-1] * A[i-2])^2 + 0.9 * sin(W2[i-4])*A[i-3]*cos(W2[i-6]) - abs(W2[i-5]))\n",
    "        Y[i] <- rbinom(1, 1, p)\n",
    "    }\n",
    "\n",
    "    data <- data.frame(W1,W2,A,Y)\n",
    "    return(data)\n",
    "}\n",
    "\n",
    "simulation_1c()"
   ]
  },
  {
   "cell_type": "code",
   "execution_count": 11,
   "metadata": {
    "vscode": {
     "languageId": "r"
    }
   },
   "outputs": [],
   "source": [
    "monte_carlo_draws <- 500\n",
    "N <- 500\n",
    "\n",
    "file <- glue(\"{folder}/simulation1c_MC{monte_carlo_draws}_N{N}.rds\")\n",
    "\n",
    "node_list <- list(\n",
    "    W = c(\"W1\", \"W2\"),\n",
    "    A = \"A\",\n",
    "    Y = \"Y\"\n",
    ")\n",
    "ate_spec <- tmle_ATE(treatment_level = 1, control_level=0)\n",
    "\n",
    "tmle_fits <- data.table()\n",
    "\n",
    "# for (i in 1:monte_carlo_draws){\n",
    "#     draw <- simulation_1c()\n",
    "#     tmle_fit <- run_tstmle(ate_spec, draw, node_list, markov_order=6)\n",
    "#     tmle_fits <- rbind(tmle_fits, tmle_fit$summary)\n",
    "# }\n",
    "# saveRDS(tmle_fits, file)"
   ]
  },
  {
   "cell_type": "code",
   "execution_count": 12,
   "metadata": {
    "vscode": {
     "languageId": "r"
    }
   },
   "outputs": [
    {
     "name": "stdout",
     "output_type": "stream",
     "text": [
      "[1] 0.0109157\n",
      "[1] 0.001187402\n",
      "[1] 0.8\n"
     ]
    }
   ],
   "source": [
    "tmle_fits <- readRDS(file)\n",
    "\n",
    "print(average_bias(tmle_fits, simulation_1c_true_ATE))\n",
    "\n",
    "print(average_variance(tmle_fits))\n",
    "\n",
    "print(coverage(tmle_fits, simulation_1c_true_ATE))"
   ]
  },
  {
   "cell_type": "code",
   "execution_count": 101,
   "metadata": {
    "vscode": {
     "languageId": "r"
    }
   },
   "outputs": [
    {
     "data": {
      "image/png": "[encoded data removed]",
      "text/plain": [
       "Plot with title \"Histogram of estimates\""
      ]
     },
     "metadata": {
      "image/png": {
       "height": 420,
       "width": 420
      }
     },
     "output_type": "display_data"
    }
   ],
   "source": [
    "estimates <- tmle_fits$\"tmle_est\"\n",
    "hist(estimates)\n",
    "abline(v = simulation_1c_true_ATE, col='red', lwd = 3, lty=2)"
   ]
  }
 ],
 "metadata": {
  "kernelspec": {
   "display_name": "R",
   "language": "R",
   "name": "ir"
  },
  "language_info": {
   "codemirror_mode": "r",
   "file_extension": ".r",
   "mimetype": "text/x-r-source",
   "name": "R",
   "pygments_lexer": "r",
   "version": "4.3.1"
  },
  "orig_nbformat": 4
 },
 "nbformat": 4,
 "nbformat_minor": 2
}

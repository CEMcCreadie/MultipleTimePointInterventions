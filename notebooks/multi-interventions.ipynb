{
 "cells": [
  {
   "cell_type": "code",
   "execution_count": 14,
   "metadata": {
    "vscode": {
     "languageId": "r"
    }
   },
   "outputs": [],
   "source": [
    "library(sl3)\n",
    "library(tmle3)\n",
    "library(glue)\n",
    "source(\"tstmle.R\")"
   ]
  },
  {
   "cell_type": "code",
   "execution_count": 15,
   "metadata": {
    "vscode": {
     "languageId": "r"
    }
   },
   "outputs": [],
   "source": [
    "preprocess_data <- function(data){\n",
    "    data$pm2_5 <- ifelse(data$pm2_5 >= 50, 1, 0)\n",
    "    max_y <- max(data$breathing_rate)\n",
    "    data$breathing_rate <- data$breathing_rate / max_y\n",
    "    data$target <- data$breathing_rate\n",
    "    return (data)\n",
    "}"
   ]
  },
  {
   "cell_type": "code",
   "execution_count": 16,
   "metadata": {
    "vscode": {
     "languageId": "r"
    }
   },
   "outputs": [
    {
     "data": {
      "text/html": [
       "<table class=\"dataframe\">\n",
       "<caption>A data.frame: 6 x 4</caption>\n",
       "<thead>\n",
       "\t<tr><th></th><th scope=col>breathing_rate</th><th scope=col>activity_type</th><th scope=col>pm2_5</th><th scope=col>target</th></tr>\n",
       "\t<tr><th></th><th scope=col>&lt;dbl&gt;</th><th scope=col>&lt;int&gt;</th><th scope=col>&lt;dbl&gt;</th><th scope=col>&lt;dbl&gt;</th></tr>\n",
       "</thead>\n",
       "<tbody>\n",
       "\t<tr><th scope=row>1</th><td>0.5725079</td><td>0</td><td>0</td><td>0.5725079</td></tr>\n",
       "\t<tr><th scope=row>2</th><td>0.7326675</td><td>0</td><td>0</td><td>0.7326675</td></tr>\n",
       "\t<tr><th scope=row>3</th><td>0.6993243</td><td>0</td><td>0</td><td>0.6993243</td></tr>\n",
       "\t<tr><th scope=row>4</th><td>0.5725079</td><td>0</td><td>0</td><td>0.5725079</td></tr>\n",
       "\t<tr><th scope=row>5</th><td>0.5725079</td><td>1</td><td>0</td><td>0.5725079</td></tr>\n",
       "\t<tr><th scope=row>6</th><td>0.5725079</td><td>1</td><td>0</td><td>0.5725079</td></tr>\n",
       "</tbody>\n",
       "</table>\n"
      ],
      "text/latex": [
       "A data.frame: 6 x 4\n",
       "\\begin{tabular}{r|llll}\n",
       "  & breathing\\_rate & activity\\_type & pm2\\_5 & target\\\\\n",
       "  & <dbl> & <int> & <dbl> & <dbl>\\\\\n",
       "\\hline\n",
       "\t1 & 0.5725079 & 0 & 0 & 0.5725079\\\\\n",
       "\t2 & 0.7326675 & 0 & 0 & 0.7326675\\\\\n",
       "\t3 & 0.6993243 & 0 & 0 & 0.6993243\\\\\n",
       "\t4 & 0.5725079 & 0 & 0 & 0.5725079\\\\\n",
       "\t5 & 0.5725079 & 1 & 0 & 0.5725079\\\\\n",
       "\t6 & 0.5725079 & 1 & 0 & 0.5725079\\\\\n",
       "\\end{tabular}\n"
      ],
      "text/markdown": [
       "\n",
       "A data.frame: 6 x 4\n",
       "\n",
       "| <!--/--> | breathing_rate &lt;dbl&gt; | activity_type &lt;int&gt; | pm2_5 &lt;dbl&gt; | target &lt;dbl&gt; |\n",
       "|---|---|---|---|---|\n",
       "| 1 | 0.5725079 | 0 | 0 | 0.5725079 |\n",
       "| 2 | 0.7326675 | 0 | 0 | 0.7326675 |\n",
       "| 3 | 0.6993243 | 0 | 0 | 0.6993243 |\n",
       "| 4 | 0.5725079 | 0 | 0 | 0.5725079 |\n",
       "| 5 | 0.5725079 | 1 | 0 | 0.5725079 |\n",
       "| 6 | 0.5725079 | 1 | 0 | 0.5725079 |\n",
       "\n"
      ],
      "text/plain": [
       "  breathing_rate activity_type pm2_5 target   \n",
       "1 0.5725079      0             0     0.5725079\n",
       "2 0.7326675      0             0     0.7326675\n",
       "3 0.6993243      0             0     0.6993243\n",
       "4 0.5725079      0             0     0.5725079\n",
       "5 0.5725079      1             0     0.5725079\n",
       "6 0.5725079      1             0     0.5725079"
      ]
     },
     "metadata": {},
     "output_type": "display_data"
    }
   ],
   "source": [
    "data <- preprocess_data(read.csv(\"data/experiments/experiment_one_DBCC14.csv\"))\n",
    "\n",
    "node_list <- list(\n",
    "    W = c(\"activity_type\"),\n",
    "    A = \"pm2_5\",\n",
    "    Y = \"breathing_rate\"\n",
    ")\n",
    "N <- nrow(data)\n",
    "K <- 5\n",
    "\n",
    "ate_spec <- tmle_ATE(treatment_level = 1, control_level=0)\n",
    "folds <- origami::make_folds(fold_fun = folds_rolling_origin, n=N, first_window = N/2, validation_size = 5, gap = 5, batch = N/20)\n",
    "learner_list = get_learner_list()\n",
    "\n",
    "head(data)"
   ]
  },
  {
   "cell_type": "code",
   "execution_count": 17,
   "metadata": {
    "vscode": {
     "languageId": "r"
    }
   },
   "outputs": [
    {
     "data": {
      "text/html": [
       "20"
      ],
      "text/latex": [
       "20"
      ],
      "text/markdown": [
       "20"
      ],
      "text/plain": [
       "[1] 20"
      ]
     },
     "metadata": {},
     "output_type": "display_data"
    }
   ],
   "source": [
    "#folds <- origami::make_folds(fold_fun = folds_rolling_origin, n=N, first_window = N/5, validation_size = 20, gap = 5, batch = N/25)\n",
    "folds <- origami::make_folds(fold_fun = folds_rolling_window, n=N, window_size = N/5, validation_size=20, gap=10, batch=N/25)\n",
    "\n",
    "length(folds)"
   ]
  },
  {
   "cell_type": "markdown",
   "metadata": {},
   "source": [
    "Constructing initial estimate of $\\bar g_0$, then initial estimate of $\\bar Q_{L(K+1)}$\n",
    "\n",
    "$$\n",
    "L(\\bar Q_{L(K+1)})(O^N) = - \\sum_{t=1}^N\\{Y(t)\\log \\bar Q_{L(K+1)}(O(t), C_o(t)) + (1-Y(t))\\log (1-\\bar Q_{L(K+1)})(O(t), C_o(t)) \\}\n",
    "$$"
   ]
  },
  {
   "cell_type": "code",
   "execution_count": 18,
   "metadata": {
    "vscode": {
     "languageId": "r"
    }
   },
   "outputs": [],
   "source": [
    "tmle_task <- make_tmle_task(ate_spec, data, node_list, folds, K)    \n",
    "\n",
    "initial_likelihood <- ate_spec$make_initial_likelihood(\n",
    "    tmle_task,\n",
    "    learner_list\n",
    ")\n",
    "\n",
    "g <- initial_likelihood$get_likelihood(tmle_task, node = \"A\")"
   ]
  },
  {
   "cell_type": "markdown",
   "metadata": {},
   "source": [
    "Given the initial estimate we define a parametric submodel. The universal least favourable submodel is given where $H$ is the clever covariate of the target parameter.\n",
    "\n",
    "$$\n",
    "\\text{logit} \\bar Q_{N,L(K+1), \\epsilon} = \\text{logit}\\bar Q_{N,L(K+1)} + \\epsilon H_{K+1}(\\bar g_N)\n",
    "$$"
   ]
  },
  {
   "cell_type": "code",
   "execution_count": 19,
   "metadata": {
    "vscode": {
     "languageId": "r"
    }
   },
   "outputs": [
    {
     "data": {
      "text/plain": [
       "A tmle3_Fit that took 1 step(s)\n",
       "   type                param init_est    tmle_est         se       lower\n",
       "1:  ATE ATE[Y_{A=1}-Y_{A=0}]        0 -0.01447533 0.01588325 -0.04560593\n",
       "        upper psi_transformed lower_transformed upper_transformed\n",
       "1: 0.01665528     -0.01447533       -0.04560593        0.01665528"
      ]
     },
     "metadata": {},
     "output_type": "display_data"
    }
   ],
   "source": [
    "updater <- ate_spec$make_updater(cvtmle=FALSE)\n",
    "targeted_likelihood <- ate_spec$make_targeted_likelihood(initial_likelihood, updater)\n",
    "tmle_params <- ate_spec$make_params(tmle_task, targeted_likelihood)\n",
    "\n",
    "updater$tmle_params <- tmle_params\n",
    "\n",
    "tmle_fit <- fit_tmle3(tmle_task, targeted_likelihood, tmle_params, updater)\n",
    "tmle_fit"
   ]
  },
  {
   "cell_type": "markdown",
   "metadata": {},
   "source": [
    "The above can be thought of as a function \n",
    "\n",
    "$$\n",
    "(C_o(t), O(t)) \\rightarrow \\bar Q^*_{N(L(K+1))}\n",
    "$$\n",
    "\n",
    "We define the following \n",
    "\n",
    "$$\n",
    "\\bar Q^*_{N,A(K)}(\\cdot ) = \\int_{a(K)} \\bar Q ^*_{N,L(K+1)}(\\cdot, a(K))\\bar g^*_K(a(K) | C^*_{a,K}(t))\n",
    "$$\n",
    "\n",
    "This is effectively a weighted average of the probability treatment is given conditional on the context vector and counterfactual treatment $a(K)$.  "
   ]
  },
  {
   "cell_type": "code",
   "execution_count": 20,
   "metadata": {
    "vscode": {
     "languageId": "r"
    }
   },
   "outputs": [],
   "source": [
    "int_out_ak <- function(targeted_likelihood, g, k) {\n",
    "    counterfactual_data <- preprocess_data(read.csv(\"data/experiments/experiment_one_DBCC14.csv\"))\n",
    "\n",
    "    folds <- folds_vfold(nrow(counterfactual_data), V=1)\n",
    "\n",
    "    counterfactual_task <- make_tmle_task(ate_spec, counterfactual_data, node_list, folds, lag=k)\n",
    "    counterfactual_vector <- matrix((targeted_likelihood$factor_list[[\"Y\"]]$get_likelihood(counterfactual_task)))\n",
    "\n",
    "    weights <- counterfactual_vector * matrix(g)\n",
    "    return (weights)\n",
    "    #weights <- weights / sum(weights) # Normalise\n",
    "    #return(sum(weights * counterfactual_vector)) # Weighted Average \n",
    "}"
   ]
  },
  {
   "cell_type": "code",
   "execution_count": 21,
   "metadata": {
    "vscode": {
     "languageId": "r"
    }
   },
   "outputs": [],
   "source": [
    "q_nAk <- int_out_ak(targeted_likelihood, g, 5)"
   ]
  },
  {
   "cell_type": "markdown",
   "metadata": {},
   "source": [
    "Which is the same as above but an estimate for treatment, and is now a only a function of\n",
    "$C_o(t), L(t, 1: K)$ and $A(t, 1: K-1)$."
   ]
  },
  {
   "cell_type": "markdown",
   "metadata": {},
   "source": [
    "Given $\\bar Q^*_{N,A(K)}$  we can define the appropriate loss for $\\bar Q_L(K)$\n",
    "\n",
    "$$\n",
    "    L = - \\text{sum}(y * \\log(p) + (1-y) * \\log(1-p)) \\\\  \n",
    "    = - \\sum_{t=1}^N\\{\\bar Q^*_{N,A(K)}\\log \\bar Q_{L(K)}+(1-Q^*_{N,A(K)})\\log(1-\\bar Q_{L(K+1)})\\}(O(t),C_o(t)) \n",
    "$$"
   ]
  },
  {
   "cell_type": "code",
   "execution_count": 22,
   "metadata": {
    "vscode": {
     "languageId": "r"
    }
   },
   "outputs": [],
   "source": [
    "data$target <- q_nAk\n",
    "node_list <- list(\n",
    "    W = c(\"activity_type\"),\n",
    "    A = \"pm2_5\",\n",
    "    Y = \"target\"\n",
    ") \n",
    "tmle_fit_2 <- run_tstmle(ate_spec, data, node_list, markov_order= K-1)"
   ]
  },
  {
   "cell_type": "markdown",
   "metadata": {},
   "source": [
    "<h2>Loop</h2>\n",
    "\n",
    "Now we've done it once, lets loop it until we get to the final conditional mean."
   ]
  },
  {
   "cell_type": "code",
   "execution_count": 23,
   "metadata": {
    "vscode": {
     "languageId": "r"
    }
   },
   "outputs": [],
   "source": [
    "K <- 5\n",
    "data <- preprocess_data(read.csv(\"data/experiments/experiment_one_DBCC14.csv\"))\n",
    "\n",
    "ate_spec <- tmle_ATE(treatment_level = 1, control_level=0)\n",
    "learner_list = get_learner_list()\n",
    "\n",
    "node_list <- list(\n",
    "    W = c(\"activity_type\"),\n",
    "    A = \"pm2_5\",\n",
    "    Y = \"target\"\n",
    ")\n",
    "\n",
    "for (k in K:1){\n",
    "    folds <- origami::make_folds(fold_fun = folds_rolling_origin, n=nrow(data), first_window = N, validation_size = 0, gap = 0, batch = 0)\n",
    "    tmle_task <- make_tmle_task(ate_spec, data, node_list, folds, k)    \n",
    "\n",
    "    initial_likelihood <- ate_spec$make_initial_likelihood(\n",
    "        tmle_task,\n",
    "        learner_list\n",
    "    )\n",
    "\n",
    "    g <- initial_likelihood$get_likelihood(tmle_task, node = \"A\")\n",
    "\n",
    "    updater <- ate_spec$make_updater(cvtmle=FALSE)\n",
    "    targeted_likelihood <- ate_spec$make_targeted_likelihood(initial_likelihood, updater)\n",
    "    tmle_params <- ate_spec$make_params(tmle_task, targeted_likelihood)\n",
    "\n",
    "    updater$tmle_params <- tmle_params\n",
    "\n",
    "    tmle_fit <- fit_tmle3(tmle_task, targeted_likelihood, tmle_params, updater)\n",
    "    print(k)\n",
    "    print(tmle_fit)\n",
    "\n",
    "    q_nAk <- int_out_ak(targeted_likelihood, g, k)\n",
    "    data$target <- q_nAk\n",
    "}"
   ]
  }
 ],
 "metadata": {
  "kernelspec": {
   "display_name": "R",
   "language": "R",
   "name": "ir"
  },
  "language_info": {
   "codemirror_mode": "r",
   "file_extension": ".r",
   "mimetype": "text/x-r-source",
   "name": "R",
   "pygments_lexer": "r",
   "version": "4.3.1"
  },
  "orig_nbformat": 4
 },
 "nbformat": 4,
 "nbformat_minor": 2
}
